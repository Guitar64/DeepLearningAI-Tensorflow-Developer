{
  "nbformat": 4,
  "nbformat_minor": 0,
  "metadata": {
    "colab": {
      "name": "S+P_Week_2_Exercise_Question.ipynb",
      "provenance": [],
      "toc_visible": true
    },
    "kernelspec": {
      "display_name": "Python 3",
      "name": "python3"
    }
  },
  "cells": [
    {
      "cell_type": "code",
      "metadata": {
        "id": "zX4Kg8DUTKWO",
        "colab_type": "code",
        "colab": {}
      },
      "source": [
        "#@title Licensed under the Apache License, Version 2.0 (the \"License\");\n",
        "# you may not use this file except in compliance with the License.\n",
        "# You may obtain a copy of the License at\n",
        "#\n",
        "# https://www.apache.org/licenses/LICENSE-2.0\n",
        "#\n",
        "# Unless required by applicable law or agreed to in writing, software\n",
        "# distributed under the License is distributed on an \"AS IS\" BASIS,\n",
        "# WITHOUT WARRANTIES OR CONDITIONS OF ANY KIND, either express or implied.\n",
        "# See the License for the specific language governing permissions and\n",
        "# limitations under the License."
      ],
      "execution_count": 16,
      "outputs": []
    },
    {
      "cell_type": "code",
      "metadata": {
        "cellView": "both",
        "colab_type": "code",
        "id": "D1J15Vh_1Jih",
        "colab": {
          "base_uri": "https://localhost:8080/",
          "height": 51
        },
        "outputId": "83cb8c02-45f1-4311-9f66-1a364016ad18"
      },
      "source": [
        "!pip install tf-nightly-2.0-preview\n"
      ],
      "execution_count": 17,
      "outputs": [
        {
          "output_type": "stream",
          "text": [
            "\u001b[31mERROR: Could not find a version that satisfies the requirement tf-nightly-2.0-preview (from versions: none)\u001b[0m\n",
            "\u001b[31mERROR: No matching distribution found for tf-nightly-2.0-preview\u001b[0m\n"
          ],
          "name": "stdout"
        }
      ]
    },
    {
      "cell_type": "code",
      "metadata": {
        "colab_type": "code",
        "id": "BOjujz601HcS",
        "colab": {
          "base_uri": "https://localhost:8080/",
          "height": 34
        },
        "outputId": "fdebd591-4745-42bf-c0eb-665c0319f8dd"
      },
      "source": [
        "import tensorflow as tf\n",
        "import numpy as np\n",
        "import matplotlib.pyplot as plt\n",
        "print(tf.__version__)"
      ],
      "execution_count": 18,
      "outputs": [
        {
          "output_type": "stream",
          "text": [
            "2.3.0\n"
          ],
          "name": "stdout"
        }
      ]
    },
    {
      "cell_type": "code",
      "metadata": {
        "colab_type": "code",
        "id": "Zswl7jRtGzkk",
        "colab": {
          "base_uri": "https://localhost:8080/",
          "height": 279
        },
        "outputId": "67943b61-7487-4f13-cc96-7424a9921adf"
      },
      "source": [
        "def plot_series(time, series, format=\"-\", start=0, end=None):\n",
        "    plt.plot(time[start:end], series[start:end], format)\n",
        "    plt.xlabel(\"Time\")\n",
        "    plt.ylabel(\"Value\")\n",
        "    plt.grid(False)\n",
        "\n",
        "def trend(time, slope=0):\n",
        "    return slope * time\n",
        "\n",
        "def seasonal_pattern(season_time):\n",
        "    \"\"\"Just an arbitrary pattern, you can change it if you wish\"\"\"\n",
        "    return np.where(season_time < 0.1,\n",
        "                    np.cos(season_time * 2 * np.pi),\n",
        "                    1 / np.exp(3 * season_time))\n",
        "\n",
        "def seasonality(time, period, amplitude=1, phase=0):\n",
        "    \"\"\"Repeats the same pattern at each period\"\"\"\n",
        "    season_time = ((time + phase) % period) / period\n",
        "    return amplitude * seasonal_pattern(season_time)\n",
        "\n",
        "def noise(time, noise_level=1, seed=None):\n",
        "    rnd = np.random.RandomState(seed)\n",
        "    return rnd.randn(len(time)) * noise_level\n",
        "\n",
        "time = np.arange(10 * 365 + 1, dtype=\"float32\")\n",
        "baseline = 10\n",
        "series = trend(time, 0.1)  \n",
        "baseline = 10\n",
        "amplitude = 40\n",
        "slope = 0.005\n",
        "noise_level = 3\n",
        "\n",
        "# Create the series\n",
        "series = baseline + trend(time, slope) + seasonality(time, period=365, amplitude=amplitude)\n",
        "# Update with noise\n",
        "series += noise(time, noise_level, seed=51)\n",
        "\n",
        "split_time = 3000\n",
        "time_train = time[:split_time]\n",
        "x_train = series[:split_time]\n",
        "time_valid = time[split_time:]\n",
        "x_valid = series[split_time:]\n",
        "\n",
        "window_size = 20\n",
        "batch_size = 32\n",
        "shuffle_buffer_size = 1000\n",
        "\n",
        "plot_series(time, series)"
      ],
      "execution_count": 19,
      "outputs": [
        {
          "output_type": "display_data",
          "data": {
            "image/png": "[encoded data removed]",
            "text/plain": [
              "<Figure size 432x288 with 1 Axes>"
            ]
          },
          "metadata": {
            "tags": [],
            "needs_background": "light"
          }
        }
      ]
    },
    {
      "cell_type": "markdown",
      "metadata": {
        "colab_type": "text",
        "id": "GfUTNqti_lNC"
      },
      "source": [
        "Desired output -- a chart that looks like this:\n",
        "\n",
        "![Chart showing upward trend and seasonailty](http://www.laurencemoroney.com/wp-content/uploads/2019/07/plot1.png)"
      ]
    },
    {
      "cell_type": "code",
      "metadata": {
        "colab_type": "code",
        "id": "4sTTIOCbyShY",
        "colab": {}
      },
      "source": [
        "def windowed_dataset(series, window_size, batch_size, shuffle_buffer):\n",
        "  dataset = tf.data.Dataset.from_tensor_slices(series)\n",
        "  dataset = dataset.window(window_size + 1, shift=1, drop_remainder=True)\n",
        "  dataset = dataset.flat_map(lambda window: window.batch(window_size + 1))\n",
        "  dataset = dataset.shuffle(shuffle_buffer).map(lambda window: (window[:-1], window[-1]))\n",
        "  dataset = dataset.batch(batch_size).prefetch(1)\n",
        "  return dataset"
      ],
      "execution_count": 20,
      "outputs": []
    },
    {
      "cell_type": "code",
      "metadata": {
        "colab_type": "code",
        "id": "TW-vT7eLYAdb",
        "colab": {
          "base_uri": "https://localhost:8080/",
          "height": 1000
        },
        "outputId": "c8bbdc65-df0e-43dc-e28e-c7fffb2e3f04"
      },
      "source": [
        "dataset = windowed_dataset(x_train, window_size, batch_size, shuffle_buffer_size)\n",
        "\n",
        "\n",
        "model = tf.keras.models.Sequential([\n",
        "    tf.keras.layers.Dense(128, activation='relu', input_shape = [window_size]),\n",
        "    tf.keras.layers.Dense(16, activation=\"relu\"), \n",
        "    tf.keras.layers.Dense(1)\n",
        "])\n",
        "\n",
        "model.compile(loss=\"mse\", optimizer=tf.keras.optimizers.SGD(lr=1e-6, momentum=0.95), metrics = [\"mae\"])\n",
        "model.fit(dataset,epochs=100,verbose=1)\n"
      ],
      "execution_count": 21,
      "outputs": [
        {
          "output_type": "stream",
          "text": [
            "Epoch 1/100\n",
            "94/94 [==============================] - 0s 3ms/step - loss: 151.6756 - mae: 7.4071\n",
            "Epoch 2/100\n",
            "94/94 [==============================] - 0s 5ms/step - loss: 23.7977 - mae: 3.1245\n",
            "Epoch 3/100\n",
            "94/94 [==============================] - 0s 3ms/step - loss: 21.7381 - mae: 3.0208\n",
            "Epoch 4/100\n",
            "94/94 [==============================] - 0s 3ms/step - loss: 20.7761 - mae: 3.0088\n",
            "Epoch 5/100\n",
            "94/94 [==============================] - 0s 3ms/step - loss: 19.7655 - mae: 2.9519\n",
            "Epoch 6/100\n",
            "94/94 [==============================] - 0s 3ms/step - loss: 19.1792 - mae: 2.9304\n",
            "Epoch 7/100\n",
            "94/94 [==============================] - 0s 4ms/step - loss: 18.6319 - mae: 2.8975\n",
            "Epoch 8/100\n",
            "94/94 [==============================] - 0s 3ms/step - loss: 18.2898 - mae: 2.8720\n",
            "Epoch 9/100\n",
            "94/94 [==============================] - 0s 4ms/step - loss: 18.0545 - mae: 2.8658\n",
            "Epoch 10/100\n",
            "94/94 [==============================] - 0s 4ms/step - loss: 17.8104 - mae: 2.8483\n",
            "Epoch 11/100\n",
            "94/94 [==============================] - 0s 5ms/step - loss: 17.5500 - mae: 2.8356\n",
            "Epoch 12/100\n",
            "94/94 [==============================] - 0s 4ms/step - loss: 17.3430 - mae: 2.8270\n",
            "Epoch 13/100\n",
            "94/94 [==============================] - 0s 3ms/step - loss: 17.1738 - mae: 2.8187\n",
            "Epoch 14/100\n",
            "94/94 [==============================] - 0s 3ms/step - loss: 17.0215 - mae: 2.8026\n",
            "Epoch 15/100\n",
            "94/94 [==============================] - 0s 4ms/step - loss: 16.9922 - mae: 2.8133\n",
            "Epoch 16/100\n",
            "94/94 [==============================] - 0s 4ms/step - loss: 16.9234 - mae: 2.8243\n",
            "Epoch 17/100\n",
            "94/94 [==============================] - 0s 3ms/step - loss: 16.8970 - mae: 2.8106\n",
            "Epoch 18/100\n",
            "94/94 [==============================] - 0s 3ms/step - loss: 16.9034 - mae: 2.8065\n",
            "Epoch 19/100\n",
            "94/94 [==============================] - 0s 3ms/step - loss: 16.5962 - mae: 2.7970\n",
            "Epoch 20/100\n",
            "94/94 [==============================] - 0s 4ms/step - loss: 16.7233 - mae: 2.8189\n",
            "Epoch 21/100\n",
            "94/94 [==============================] - 0s 4ms/step - loss: 16.5138 - mae: 2.7935\n",
            "Epoch 22/100\n",
            "94/94 [==============================] - 0s 5ms/step - loss: 16.4371 - mae: 2.7867\n",
            "Epoch 23/100\n",
            "94/94 [==============================] - 0s 3ms/step - loss: 16.5374 - mae: 2.7958\n",
            "Epoch 24/100\n",
            "94/94 [==============================] - 0s 3ms/step - loss: 16.3611 - mae: 2.7884\n",
            "Epoch 25/100\n",
            "94/94 [==============================] - 0s 4ms/step - loss: 16.2370 - mae: 2.7716\n",
            "Epoch 26/100\n",
            "94/94 [==============================] - 0s 3ms/step - loss: 16.2668 - mae: 2.7761\n",
            "Epoch 27/100\n",
            "94/94 [==============================] - 0s 4ms/step - loss: 16.4635 - mae: 2.7997\n",
            "Epoch 28/100\n",
            "94/94 [==============================] - 0s 4ms/step - loss: 16.0832 - mae: 2.7580\n",
            "Epoch 29/100\n",
            "94/94 [==============================] - 0s 3ms/step - loss: 16.0969 - mae: 2.7667\n",
            "Epoch 30/100\n",
            "94/94 [==============================] - 0s 4ms/step - loss: 16.0336 - mae: 2.7680\n",
            "Epoch 31/100\n",
            "94/94 [==============================] - 0s 4ms/step - loss: 16.0365 - mae: 2.7681\n",
            "Epoch 32/100\n",
            "94/94 [==============================] - 0s 3ms/step - loss: 15.9018 - mae: 2.7494\n",
            "Epoch 33/100\n",
            "94/94 [==============================] - 0s 4ms/step - loss: 15.9812 - mae: 2.7613\n",
            "Epoch 34/100\n",
            "94/94 [==============================] - 0s 3ms/step - loss: 15.8929 - mae: 2.7621\n",
            "Epoch 35/100\n",
            "94/94 [==============================] - 0s 3ms/step - loss: 15.9380 - mae: 2.7597\n",
            "Epoch 36/100\n",
            "94/94 [==============================] - 0s 3ms/step - loss: 15.8162 - mae: 2.7487\n",
            "Epoch 37/100\n",
            "94/94 [==============================] - 0s 3ms/step - loss: 16.2020 - mae: 2.7902\n",
            "Epoch 38/100\n",
            "94/94 [==============================] - 0s 4ms/step - loss: 15.8107 - mae: 2.7529\n",
            "Epoch 39/100\n",
            "94/94 [==============================] - 0s 4ms/step - loss: 15.7739 - mae: 2.7479\n",
            "Epoch 40/100\n",
            "94/94 [==============================] - 0s 4ms/step - loss: 15.7560 - mae: 2.7416\n",
            "Epoch 41/100\n",
            "94/94 [==============================] - 0s 4ms/step - loss: 15.8260 - mae: 2.7525\n",
            "Epoch 42/100\n",
            "94/94 [==============================] - 0s 4ms/step - loss: 15.6804 - mae: 2.7379\n",
            "Epoch 43/100\n",
            "94/94 [==============================] - 0s 5ms/step - loss: 15.7506 - mae: 2.7504\n",
            "Epoch 44/100\n",
            "94/94 [==============================] - 0s 4ms/step - loss: 15.6298 - mae: 2.7368\n",
            "Epoch 45/100\n",
            "94/94 [==============================] - 0s 3ms/step - loss: 15.9063 - mae: 2.7617\n",
            "Epoch 46/100\n",
            "94/94 [==============================] - 0s 3ms/step - loss: 15.7211 - mae: 2.7439\n",
            "Epoch 47/100\n",
            "94/94 [==============================] - 0s 4ms/step - loss: 15.7413 - mae: 2.7521\n",
            "Epoch 48/100\n",
            "94/94 [==============================] - 0s 5ms/step - loss: 15.5417 - mae: 2.7297\n",
            "Epoch 49/100\n",
            "94/94 [==============================] - 0s 4ms/step - loss: 15.5716 - mae: 2.7294\n",
            "Epoch 50/100\n",
            "94/94 [==============================] - 0s 4ms/step - loss: 16.0116 - mae: 2.7831\n",
            "Epoch 51/100\n",
            "94/94 [==============================] - 0s 4ms/step - loss: 15.5292 - mae: 2.7358\n",
            "Epoch 52/100\n",
            "94/94 [==============================] - 0s 3ms/step - loss: 15.6496 - mae: 2.7446\n",
            "Epoch 53/100\n",
            "94/94 [==============================] - 0s 3ms/step - loss: 15.5175 - mae: 2.7392\n",
            "Epoch 54/100\n",
            "94/94 [==============================] - 0s 3ms/step - loss: 15.5047 - mae: 2.7336\n",
            "Epoch 55/100\n",
            "94/94 [==============================] - 0s 4ms/step - loss: 15.5396 - mae: 2.7358\n",
            "Epoch 56/100\n",
            "94/94 [==============================] - 0s 3ms/step - loss: 15.5750 - mae: 2.7478\n",
            "Epoch 57/100\n",
            "94/94 [==============================] - 0s 3ms/step - loss: 15.5453 - mae: 2.7452\n",
            "Epoch 58/100\n",
            "94/94 [==============================] - 0s 3ms/step - loss: 15.3467 - mae: 2.7198\n",
            "Epoch 59/100\n",
            "94/94 [==============================] - 0s 3ms/step - loss: 15.3708 - mae: 2.7158\n",
            "Epoch 60/100\n",
            "94/94 [==============================] - 0s 4ms/step - loss: 15.3706 - mae: 2.7237\n",
            "Epoch 61/100\n",
            "94/94 [==============================] - 0s 4ms/step - loss: 15.6633 - mae: 2.7512\n",
            "Epoch 62/100\n",
            "94/94 [==============================] - 0s 4ms/step - loss: 15.3538 - mae: 2.7266\n",
            "Epoch 63/100\n",
            "94/94 [==============================] - 0s 3ms/step - loss: 15.3253 - mae: 2.7232\n",
            "Epoch 64/100\n",
            "94/94 [==============================] - 0s 4ms/step - loss: 15.4203 - mae: 2.7228\n",
            "Epoch 65/100\n",
            "94/94 [==============================] - 0s 3ms/step - loss: 15.2440 - mae: 2.7159\n",
            "Epoch 66/100\n",
            "94/94 [==============================] - 0s 3ms/step - loss: 15.2365 - mae: 2.7143\n",
            "Epoch 67/100\n",
            "94/94 [==============================] - 0s 3ms/step - loss: 15.2167 - mae: 2.7133\n",
            "Epoch 68/100\n",
            "94/94 [==============================] - 0s 3ms/step - loss: 15.3445 - mae: 2.7319\n",
            "Epoch 69/100\n",
            "94/94 [==============================] - 0s 3ms/step - loss: 15.2605 - mae: 2.7118\n",
            "Epoch 70/100\n",
            "94/94 [==============================] - 0s 3ms/step - loss: 15.3065 - mae: 2.7236\n",
            "Epoch 71/100\n",
            "94/94 [==============================] - 0s 4ms/step - loss: 15.2459 - mae: 2.7194\n",
            "Epoch 72/100\n",
            "94/94 [==============================] - 0s 4ms/step - loss: 15.2741 - mae: 2.7203\n",
            "Epoch 73/100\n",
            "94/94 [==============================] - 0s 3ms/step - loss: 15.2285 - mae: 2.7130\n",
            "Epoch 74/100\n",
            "94/94 [==============================] - 0s 3ms/step - loss: 15.1546 - mae: 2.7109\n",
            "Epoch 75/100\n",
            "94/94 [==============================] - 0s 3ms/step - loss: 15.2619 - mae: 2.7209\n",
            "Epoch 76/100\n",
            "94/94 [==============================] - 0s 4ms/step - loss: 15.1287 - mae: 2.7049\n",
            "Epoch 77/100\n",
            "94/94 [==============================] - 0s 4ms/step - loss: 15.2095 - mae: 2.7181\n",
            "Epoch 78/100\n",
            "94/94 [==============================] - 0s 4ms/step - loss: 15.0950 - mae: 2.7047\n",
            "Epoch 79/100\n",
            "94/94 [==============================] - 0s 4ms/step - loss: 15.0446 - mae: 2.7031\n",
            "Epoch 80/100\n",
            "94/94 [==============================] - 0s 3ms/step - loss: 15.1123 - mae: 2.7072\n",
            "Epoch 81/100\n",
            "94/94 [==============================] - 0s 4ms/step - loss: 15.0584 - mae: 2.6965\n",
            "Epoch 82/100\n",
            "94/94 [==============================] - 0s 3ms/step - loss: 15.0305 - mae: 2.6979\n",
            "Epoch 83/100\n",
            "94/94 [==============================] - 0s 4ms/step - loss: 14.9717 - mae: 2.6896\n",
            "Epoch 84/100\n",
            "94/94 [==============================] - 0s 4ms/step - loss: 15.0704 - mae: 2.7020\n",
            "Epoch 85/100\n",
            "94/94 [==============================] - 0s 4ms/step - loss: 15.0326 - mae: 2.6989\n",
            "Epoch 86/100\n",
            "94/94 [==============================] - 0s 4ms/step - loss: 15.1364 - mae: 2.7171\n",
            "Epoch 87/100\n",
            "94/94 [==============================] - 0s 4ms/step - loss: 14.9789 - mae: 2.6967\n",
            "Epoch 88/100\n",
            "94/94 [==============================] - 0s 3ms/step - loss: 15.0904 - mae: 2.7093\n",
            "Epoch 89/100\n",
            "94/94 [==============================] - 0s 4ms/step - loss: 15.0259 - mae: 2.7015\n",
            "Epoch 90/100\n",
            "94/94 [==============================] - 0s 3ms/step - loss: 15.0372 - mae: 2.7022\n",
            "Epoch 91/100\n",
            "94/94 [==============================] - 0s 3ms/step - loss: 14.9932 - mae: 2.7007\n",
            "Epoch 92/100\n",
            "94/94 [==============================] - 0s 3ms/step - loss: 14.8760 - mae: 2.6872\n",
            "Epoch 93/100\n",
            "94/94 [==============================] - 0s 4ms/step - loss: 15.0004 - mae: 2.6979\n",
            "Epoch 94/100\n",
            "94/94 [==============================] - 0s 3ms/step - loss: 15.1436 - mae: 2.7230\n",
            "Epoch 95/100\n",
            "94/94 [==============================] - 0s 3ms/step - loss: 14.9442 - mae: 2.6966\n",
            "Epoch 96/100\n",
            "94/94 [==============================] - 0s 4ms/step - loss: 14.8538 - mae: 2.6844\n",
            "Epoch 97/100\n",
            "94/94 [==============================] - 0s 4ms/step - loss: 14.9038 - mae: 2.6947\n",
            "Epoch 98/100\n",
            "94/94 [==============================] - 0s 3ms/step - loss: 14.8670 - mae: 2.6849\n",
            "Epoch 99/100\n",
            "94/94 [==============================] - 0s 3ms/step - loss: 15.0856 - mae: 2.7111\n",
            "Epoch 100/100\n",
            "94/94 [==============================] - 0s 4ms/step - loss: 15.1290 - mae: 2.7253\n"
          ],
          "name": "stdout"
        },
        {
          "output_type": "execute_result",
          "data": {
            "text/plain": [
              "<tensorflow.python.keras.callbacks.History at 0x7f29148a3c18>"
            ]
          },
          "metadata": {
            "tags": []
          },
          "execution_count": 21
        }
      ]
    },
    {
      "cell_type": "code",
      "metadata": {
        "colab_type": "code",
        "id": "efhco2rYyIFF",
        "colab": {
          "base_uri": "https://localhost:8080/",
          "height": 388
        },
        "outputId": "af278510-e949-499f-a091-3026ad64db7d"
      },
      "source": [
        "forecast = []\n",
        "for time in range(len(series) - window_size):\n",
        "  forecast.append(model.predict(series[time:time + window_size][np.newaxis]))\n",
        "\n",
        "forecast = forecast[split_time-window_size:]\n",
        "results = np.array(forecast)[:, 0, 0]\n",
        "\n",
        "\n",
        "plt.figure(figsize=(10, 6))\n",
        "\n",
        "plot_series(time_valid, x_valid)\n",
        "plot_series(time_valid, results)"
      ],
      "execution_count": 22,
      "outputs": [
        {
          "output_type": "display_data",
          "data": {
            "image/png": "[encoded data removed]",
            "text/plain": [
              "<Figure size 720x432 with 1 Axes>"
            ]
          },
          "metadata": {
            "tags": [],
            "needs_background": "light"
          }
        }
      ]
    },
    {
      "cell_type": "code",
      "metadata": {
        "colab_type": "code",
        "id": "-kT6j186YO6K",
        "colab": {
          "base_uri": "https://localhost:8080/",
          "height": 34
        },
        "outputId": "e35dd5db-7577-4ddc-b8f3-b23e00dbf8df"
      },
      "source": [
        "tf.keras.metrics.mean_absolute_error(x_valid, results).numpy()\n",
        "# EXPECTED OUTPUT\n",
        "# A Value less than 3"
      ],
      "execution_count": 23,
      "outputs": [
        {
          "output_type": "execute_result",
          "data": {
            "text/plain": [
              "2.6903105"
            ]
          },
          "metadata": {
            "tags": []
          },
          "execution_count": 23
        }
      ]
    },
    {
      "cell_type": "code",
      "metadata": {
        "id": "tLlbmmkcAc2R",
        "colab_type": "code",
        "colab": {}
      },
      "source": [
        ""
      ],
      "execution_count": 23,
      "outputs": []
    }
  ]
}