{
  "nbformat": 4,
  "nbformat_minor": 0,
  "metadata": {
    "accelerator": "GPU",
    "colab": {
      "name": "NLP Course - Week 3 Exercise Question.ipynb",
      "provenance": [],
      "toc_visible": true
    },
    "kernelspec": {
      "display_name": "Python 3",
      "name": "python3"
    }
  },
  "cells": [
    {
      "cell_type": "code",
      "metadata": {
        "id": "zX4Kg8DUTKWO",
        "colab_type": "code",
        "colab": {}
      },
      "source": [
        "#@title Licensed under the Apache License, Version 2.0 (the \"License\");\n",
        "# you may not use this file except in compliance with the License.\n",
        "# You may obtain a copy of the License at\n",
        "#\n",
        "# https://www.apache.org/licenses/LICENSE-2.0\n",
        "#\n",
        "# Unless required by applicable law or agreed to in writing, software\n",
        "# distributed under the License is distributed on an \"AS IS\" BASIS,\n",
        "# WITHOUT WARRANTIES OR CONDITIONS OF ANY KIND, either express or implied.\n",
        "# See the License for the specific language governing permissions and\n",
        "# limitations under the License."
      ],
      "execution_count": null,
      "outputs": []
    },
    {
      "cell_type": "code",
      "metadata": {
        "colab_type": "code",
        "id": "hmA6EzkQJ5jt",
        "colab": {}
      },
      "source": [
        "import json\n",
        "import tensorflow as tf\n",
        "import csv\n",
        "import random\n",
        "import numpy as np\n",
        "\n",
        "from tensorflow.keras.preprocessing.text import Tokenizer\n",
        "from tensorflow.keras.preprocessing.sequence import pad_sequences\n",
        "from tensorflow.keras.utils import to_categorical\n",
        "from tensorflow.keras import regularizers\n",
        "\n",
        "\n",
        "embedding_dim = 100\n",
        "max_length = 16\n",
        "trunc_type='post'\n",
        "padding_type='post'\n",
        "oov_tok = \"<OOV>\"\n",
        "training_size=160000\n",
        "test_portion=.1\n",
        "\n",
        "corpus = []\n"
      ],
      "execution_count": 3,
      "outputs": []
    },
    {
      "cell_type": "code",
      "metadata": {
        "colab_type": "code",
        "id": "bM0l_dORKqE0",
        "colab": {
          "base_uri": "https://localhost:8080/",
          "height": 204
        },
        "outputId": "7cc0fe61-0298-4642-8a79-826f37f2440d"
      },
      "source": [
        "# Note that I cleaned the Stanford dataset to remove LATIN1 encoding to make it easier for Python CSV reader\n",
        "# You can do that yourself with:\n",
        "# iconv -f LATIN1 -t UTF8 training.1600000.processed.noemoticon.csv -o training_cleaned.csv\n",
        "# I then hosted it on my site to make it easier to use in this notebook\n",
        "\n",
        "!wget --no-check-certificate \\\n",
        "    https://storage.googleapis.com/laurencemoroney-blog.appspot.com/training_cleaned.csv \\\n",
        "    -O /tmp/training_cleaned.csv\n",
        "\n",
        "num_sentences = 0\n",
        "\n",
        "with open(\"/tmp/training_cleaned.csv\") as csvfile:\n",
        "    reader = csv.reader(csvfile, delimiter=',')\n",
        "    for row in reader:\n",
        "      # Your Code here. Create list items where the first item is the text, found in row[5], and the second is the label. Note that the label is a '0' or a '4' in the text. When it's the former, make\n",
        "      # your label to be 0, otherwise 1. Keep a count of the number of sentences in num_sentences\n",
        "        list_item=[]\n",
        "        list_item.append(row[5])\n",
        "        label = row[0]\n",
        "        if label == '0':\n",
        "            list_item.append(0)\n",
        "        else:\n",
        "            list_item.append(1)\n",
        "        num_sentences = num_sentences + 1\n",
        "        corpus.append(list_item)\n"
      ],
      "execution_count": 4,
      "outputs": [
        {
          "output_type": "stream",
          "text": [
            "--2020-09-17 17:14:36--  https://storage.googleapis.com/laurencemoroney-blog.appspot.com/training_cleaned.csv\n",
            "Resolving storage.googleapis.com (storage.googleapis.com)... 64.233.189.128, 108.177.97.128, 108.177.125.128, ...\n",
            "Connecting to storage.googleapis.com (storage.googleapis.com)|64.233.189.128|:443... connected.\n",
            "HTTP request sent, awaiting response... 200 OK\n",
            "Length: 238942690 (228M) [application/octet-stream]\n",
            "Saving to: ‘/tmp/training_cleaned.csv’\n",
            "\n",
            "/tmp/training_clean 100%[===================>] 227.87M  29.5MB/s    in 7.7s    \n",
            "\n",
            "2020-09-17 17:14:45 (29.5 MB/s) - ‘/tmp/training_cleaned.csv’ saved [238942690/238942690]\n",
            "\n"
          ],
          "name": "stdout"
        }
      ]
    },
    {
      "cell_type": "code",
      "metadata": {
        "colab_type": "code",
        "id": "3kxblBUjEUX-",
        "colab": {
          "base_uri": "https://localhost:8080/",
          "height": 68
        },
        "outputId": "0ae762cb-e07d-4f8f-9986-12fedc6ab610"
      },
      "source": [
        "print(num_sentences)\n",
        "print(len(corpus))\n",
        "print(corpus[1])\n",
        "\n",
        "# Expected Output:\n",
        "# 1600000\n",
        "# 1600000\n",
        "# [\"is upset that he can't update his Facebook by texting it... and might cry as a result  School today also. Blah!\", 0]"
      ],
      "execution_count": 5,
      "outputs": [
        {
          "output_type": "stream",
          "text": [
            "1600000\n",
            "1600000\n",
            "[\"is upset that he can't update his Facebook by texting it... and might cry as a result  School today also. Blah!\", 0]\n"
          ],
          "name": "stdout"
        }
      ]
    },
    {
      "cell_type": "code",
      "metadata": {
        "colab_type": "code",
        "id": "ohOGz24lsNAD",
        "colab": {}
      },
      "source": [
        "sentences=[]\n",
        "labels=[]\n",
        "random.shuffle(corpus)\n",
        "for x in range(training_size):\n",
        "    sentences.append(corpus[x][0])\n",
        "    labels.append(corpus[x][1])\n",
        "\n",
        "\n",
        "tokenizer = Tokenizer()\n",
        "tokenizer.fit_on_texts(sentences)\n",
        "\n",
        "word_index = tokenizer.word_index\n",
        "vocab_size=len(word_index)\n",
        "\n",
        "sequences = tokenizer.texts_to_sequences(sentences)\n",
        "padded = pad_sequences(sequences, maxlen=max_length, padding=padding_type, truncating=trunc_type)\n",
        "\n",
        "split = int(test_portion * training_size)\n",
        "\n",
        "test_sequences = padded[0:split]\n",
        "training_sequences = padded[split:training_size]\n",
        "test_labels = labels[0:split]\n",
        "training_labels = labels[split:training_size]"
      ],
      "execution_count": 6,
      "outputs": []
    },
    {
      "cell_type": "code",
      "metadata": {
        "colab_type": "code",
        "id": "gIrtRem1En3N",
        "colab": {
          "base_uri": "https://localhost:8080/",
          "height": 51
        },
        "outputId": "16d0021e-718d-45e3-99ed-a4bdfcde2587"
      },
      "source": [
        "print(vocab_size)\n",
        "print(word_index['i'])\n",
        "# Expected Output\n",
        "# 138858\n",
        "# 1"
      ],
      "execution_count": 7,
      "outputs": [
        {
          "output_type": "stream",
          "text": [
            "138539\n",
            "1\n"
          ],
          "name": "stdout"
        }
      ]
    },
    {
      "cell_type": "code",
      "metadata": {
        "colab_type": "code",
        "id": "C1zdgJkusRh0",
        "colab": {
          "base_uri": "https://localhost:8080/",
          "height": 204
        },
        "outputId": "0d0e1c46-28d2-4430-aedd-7c0b73ef5918"
      },
      "source": [
        "# Note this is the 100 dimension version of GloVe from Stanford\n",
        "# I unzipped and hosted it on my site to make this notebook easier\n",
        "!wget --no-check-certificate \\\n",
        "    https://storage.googleapis.com/laurencemoroney-blog.appspot.com/glove.6B.100d.txt \\\n",
        "    -O /tmp/glove.6B.100d.txt\n",
        "embeddings_index = {};\n",
        "with open('/tmp/glove.6B.100d.txt') as f:\n",
        "    for line in f:\n",
        "        values = line.split();\n",
        "        word = values[0];\n",
        "        coefs = np.asarray(values[1:], dtype='float32');\n",
        "        embeddings_index[word] = coefs;\n",
        "\n",
        "embeddings_matrix = np.zeros((vocab_size+1, embedding_dim));\n",
        "for word, i in word_index.items():\n",
        "    embedding_vector = embeddings_index.get(word);\n",
        "    if embedding_vector is not None:\n",
        "        embeddings_matrix[i] = embedding_vector;"
      ],
      "execution_count": 8,
      "outputs": [
        {
          "output_type": "stream",
          "text": [
            "--2020-09-17 17:20:48--  https://storage.googleapis.com/laurencemoroney-blog.appspot.com/glove.6B.100d.txt\n",
            "Resolving storage.googleapis.com (storage.googleapis.com)... 108.177.125.128, 74.125.203.128, 74.125.204.128, ...\n",
            "Connecting to storage.googleapis.com (storage.googleapis.com)|108.177.125.128|:443... connected.\n",
            "HTTP request sent, awaiting response... 200 OK\n",
            "Length: 347116733 (331M) [text/plain]\n",
            "Saving to: ‘/tmp/glove.6B.100d.txt’\n",
            "\n",
            "/tmp/glove.6B.100d. 100%[===================>] 331.04M   179MB/s    in 1.8s    \n",
            "\n",
            "2020-09-17 17:20:50 (179 MB/s) - ‘/tmp/glove.6B.100d.txt’ saved [347116733/347116733]\n",
            "\n"
          ],
          "name": "stdout"
        }
      ]
    },
    {
      "cell_type": "code",
      "metadata": {
        "colab_type": "code",
        "id": "71NLk_lpFLNt",
        "colab": {
          "base_uri": "https://localhost:8080/",
          "height": 34
        },
        "outputId": "8f170eb4-2d65-4342-87c4-7a5bbeb40167"
      },
      "source": [
        "print(len(embeddings_matrix))\n",
        "# Expected Output\n",
        "# 138859"
      ],
      "execution_count": 9,
      "outputs": [
        {
          "output_type": "stream",
          "text": [
            "138540\n"
          ],
          "name": "stdout"
        }
      ]
    },
    {
      "cell_type": "code",
      "metadata": {
        "colab_type": "code",
        "id": "iKKvbuEBOGFz",
        "colab": {
          "base_uri": "https://localhost:8080/",
          "height": 1000
        },
        "outputId": "a6d7d80c-4792-4cfa-e8fa-c9dedbd5e07c"
      },
      "source": [
        "model = tf.keras.Sequential([\n",
        "    tf.keras.layers.Embedding(vocab_size+1, embedding_dim, input_length=max_length, weights=[embeddings_matrix], trainable=False),\n",
        "    tf.keras.layers.Dropout(0.2),\n",
        "    tf.keras.layers.Conv1D(64, 5, activation='relu'),\n",
        "    tf.keras.layers.MaxPooling1D(pool_size=4),\n",
        "    tf.keras.layers.LSTM(64),\n",
        "    tf.keras.layers.Dense(1, activation='sigmoid')\n",
        "])\n",
        "model.compile(loss='binary_crossentropy',optimizer='adam',metrics=['accuracy'])\n",
        "model.summary()\n",
        "\n",
        "num_epochs = 50\n",
        "\n",
        "training_padded = np.array(training_sequences)\n",
        "training_labels = np.array(training_labels)\n",
        "testing_padded = np.array(test_sequences)\n",
        "testing_labels = np.array(test_labels)\n",
        "\n",
        "history = model.fit(training_padded, training_labels, epochs=num_epochs, validation_data=(testing_padded, testing_labels), verbose=2)\n",
        "\n",
        "print(\"Training Complete\")"
      ],
      "execution_count": 13,
      "outputs": [
        {
          "output_type": "stream",
          "text": [
            "Model: \"sequential_2\"\n",
            "_________________________________________________________________\n",
            "Layer (type)                 Output Shape              Param #   \n",
            "=================================================================\n",
            "embedding_2 (Embedding)      (None, 16, 100)           13854000  \n",
            "_________________________________________________________________\n",
            "dropout_2 (Dropout)          (None, 16, 100)           0         \n",
            "_________________________________________________________________\n",
            "conv1d_2 (Conv1D)            (None, 12, 64)            32064     \n",
            "_________________________________________________________________\n",
            "max_pooling1d_2 (MaxPooling1 (None, 3, 64)             0         \n",
            "_________________________________________________________________\n",
            "lstm_2 (LSTM)                (None, 64)                33024     \n",
            "_________________________________________________________________\n",
            "dense_2 (Dense)              (None, 1)                 65        \n",
            "=================================================================\n",
            "Total params: 13,919,153\n",
            "Trainable params: 65,153\n",
            "Non-trainable params: 13,854,000\n",
            "_________________________________________________________________\n",
            "Epoch 1/50\n",
            "4500/4500 - 14s - loss: 0.5674 - accuracy: 0.6978 - val_loss: 0.5555 - val_accuracy: 0.7211\n",
            "Epoch 2/50\n",
            "4500/4500 - 14s - loss: 0.5273 - accuracy: 0.7308 - val_loss: 0.5119 - val_accuracy: 0.7436\n",
            "Epoch 3/50\n",
            "4500/4500 - 14s - loss: 0.5107 - accuracy: 0.7420 - val_loss: 0.5083 - val_accuracy: 0.7419\n",
            "Epoch 4/50\n",
            "4500/4500 - 14s - loss: 0.4995 - accuracy: 0.7513 - val_loss: 0.4981 - val_accuracy: 0.7527\n",
            "Epoch 5/50\n",
            "4500/4500 - 14s - loss: 0.4911 - accuracy: 0.7555 - val_loss: 0.4982 - val_accuracy: 0.7520\n",
            "Epoch 6/50\n",
            "4500/4500 - 14s - loss: 0.4828 - accuracy: 0.7623 - val_loss: 0.4965 - val_accuracy: 0.7537\n",
            "Epoch 7/50\n",
            "4500/4500 - 14s - loss: 0.4777 - accuracy: 0.7654 - val_loss: 0.4929 - val_accuracy: 0.7542\n",
            "Epoch 8/50\n",
            "4500/4500 - 14s - loss: 0.4727 - accuracy: 0.7685 - val_loss: 0.4969 - val_accuracy: 0.7486\n",
            "Epoch 9/50\n",
            "4500/4500 - 14s - loss: 0.4677 - accuracy: 0.7721 - val_loss: 0.4952 - val_accuracy: 0.7537\n",
            "Epoch 10/50\n",
            "4500/4500 - 14s - loss: 0.4647 - accuracy: 0.7725 - val_loss: 0.4990 - val_accuracy: 0.7505\n",
            "Epoch 11/50\n",
            "4500/4500 - 14s - loss: 0.4604 - accuracy: 0.7761 - val_loss: 0.4998 - val_accuracy: 0.7509\n",
            "Epoch 12/50\n",
            "4500/4500 - 14s - loss: 0.4577 - accuracy: 0.7781 - val_loss: 0.5007 - val_accuracy: 0.7492\n",
            "Epoch 13/50\n",
            "4500/4500 - 14s - loss: 0.4552 - accuracy: 0.7806 - val_loss: 0.4984 - val_accuracy: 0.7560\n",
            "Epoch 14/50\n",
            "4500/4500 - 14s - loss: 0.4534 - accuracy: 0.7802 - val_loss: 0.5015 - val_accuracy: 0.7546\n",
            "Epoch 15/50\n",
            "4500/4500 - 14s - loss: 0.4494 - accuracy: 0.7831 - val_loss: 0.4995 - val_accuracy: 0.7534\n",
            "Epoch 16/50\n",
            "4500/4500 - 14s - loss: 0.4494 - accuracy: 0.7826 - val_loss: 0.5041 - val_accuracy: 0.7562\n",
            "Epoch 17/50\n",
            "4500/4500 - 14s - loss: 0.4460 - accuracy: 0.7855 - val_loss: 0.5038 - val_accuracy: 0.7509\n",
            "Epoch 18/50\n",
            "4500/4500 - 14s - loss: 0.4459 - accuracy: 0.7854 - val_loss: 0.5016 - val_accuracy: 0.7536\n",
            "Epoch 19/50\n",
            "4500/4500 - 14s - loss: 0.4438 - accuracy: 0.7854 - val_loss: 0.5050 - val_accuracy: 0.7524\n",
            "Epoch 20/50\n",
            "4500/4500 - 14s - loss: 0.4417 - accuracy: 0.7876 - val_loss: 0.5109 - val_accuracy: 0.7480\n",
            "Epoch 21/50\n",
            "4500/4500 - 14s - loss: 0.4418 - accuracy: 0.7878 - val_loss: 0.5078 - val_accuracy: 0.7517\n",
            "Epoch 22/50\n",
            "4500/4500 - 14s - loss: 0.4403 - accuracy: 0.7884 - val_loss: 0.5135 - val_accuracy: 0.7489\n",
            "Epoch 23/50\n",
            "4500/4500 - 14s - loss: 0.4381 - accuracy: 0.7897 - val_loss: 0.5126 - val_accuracy: 0.7488\n",
            "Epoch 24/50\n",
            "4500/4500 - 14s - loss: 0.4379 - accuracy: 0.7898 - val_loss: 0.5188 - val_accuracy: 0.7500\n",
            "Epoch 25/50\n",
            "4500/4500 - 14s - loss: 0.4368 - accuracy: 0.7910 - val_loss: 0.5103 - val_accuracy: 0.7512\n",
            "Epoch 26/50\n",
            "4500/4500 - 14s - loss: 0.4356 - accuracy: 0.7919 - val_loss: 0.5122 - val_accuracy: 0.7472\n",
            "Epoch 27/50\n",
            "4500/4500 - 14s - loss: 0.4339 - accuracy: 0.7921 - val_loss: 0.5139 - val_accuracy: 0.7434\n",
            "Epoch 28/50\n",
            "4500/4500 - 14s - loss: 0.4338 - accuracy: 0.7922 - val_loss: 0.5124 - val_accuracy: 0.7459\n",
            "Epoch 29/50\n",
            "4500/4500 - 14s - loss: 0.4333 - accuracy: 0.7932 - val_loss: 0.5094 - val_accuracy: 0.7507\n",
            "Epoch 30/50\n",
            "4500/4500 - 14s - loss: 0.4335 - accuracy: 0.7924 - val_loss: 0.5146 - val_accuracy: 0.7486\n",
            "Epoch 31/50\n",
            "4500/4500 - 14s - loss: 0.4319 - accuracy: 0.7938 - val_loss: 0.5189 - val_accuracy: 0.7487\n",
            "Epoch 32/50\n",
            "4500/4500 - 14s - loss: 0.4327 - accuracy: 0.7935 - val_loss: 0.5121 - val_accuracy: 0.7466\n",
            "Epoch 33/50\n",
            "4500/4500 - 14s - loss: 0.4286 - accuracy: 0.7955 - val_loss: 0.5175 - val_accuracy: 0.7472\n",
            "Epoch 34/50\n",
            "4500/4500 - 14s - loss: 0.4294 - accuracy: 0.7951 - val_loss: 0.5156 - val_accuracy: 0.7490\n",
            "Epoch 35/50\n",
            "4500/4500 - 14s - loss: 0.4298 - accuracy: 0.7956 - val_loss: 0.5175 - val_accuracy: 0.7481\n",
            "Epoch 36/50\n",
            "4500/4500 - 14s - loss: 0.4290 - accuracy: 0.7961 - val_loss: 0.5141 - val_accuracy: 0.7452\n",
            "Epoch 37/50\n",
            "4500/4500 - 14s - loss: 0.4294 - accuracy: 0.7958 - val_loss: 0.5200 - val_accuracy: 0.7458\n",
            "Epoch 38/50\n",
            "4500/4500 - 14s - loss: 0.4297 - accuracy: 0.7958 - val_loss: 0.5194 - val_accuracy: 0.7457\n",
            "Epoch 39/50\n",
            "4500/4500 - 14s - loss: 0.4296 - accuracy: 0.7957 - val_loss: 0.5160 - val_accuracy: 0.7468\n",
            "Epoch 40/50\n",
            "4500/4500 - 14s - loss: 0.4280 - accuracy: 0.7962 - val_loss: 0.5215 - val_accuracy: 0.7486\n",
            "Epoch 41/50\n",
            "4500/4500 - 14s - loss: 0.4278 - accuracy: 0.7962 - val_loss: 0.5194 - val_accuracy: 0.7474\n",
            "Epoch 42/50\n",
            "4500/4500 - 14s - loss: 0.4280 - accuracy: 0.7960 - val_loss: 0.5189 - val_accuracy: 0.7434\n",
            "Epoch 43/50\n",
            "4500/4500 - 14s - loss: 0.4284 - accuracy: 0.7964 - val_loss: 0.5157 - val_accuracy: 0.7449\n",
            "Epoch 44/50\n",
            "4500/4500 - 14s - loss: 0.4287 - accuracy: 0.7952 - val_loss: 0.5201 - val_accuracy: 0.7425\n",
            "Epoch 45/50\n",
            "4500/4500 - 14s - loss: 0.4262 - accuracy: 0.7968 - val_loss: 0.5291 - val_accuracy: 0.7443\n",
            "Epoch 46/50\n",
            "4500/4500 - 14s - loss: 0.4272 - accuracy: 0.7967 - val_loss: 0.5174 - val_accuracy: 0.7440\n",
            "Epoch 47/50\n",
            "4500/4500 - 14s - loss: 0.4259 - accuracy: 0.7972 - val_loss: 0.5205 - val_accuracy: 0.7448\n",
            "Epoch 48/50\n",
            "4500/4500 - 14s - loss: 0.4259 - accuracy: 0.7976 - val_loss: 0.5224 - val_accuracy: 0.7468\n",
            "Epoch 49/50\n",
            "4500/4500 - 14s - loss: 0.4246 - accuracy: 0.7981 - val_loss: 0.5221 - val_accuracy: 0.7496\n",
            "Epoch 50/50\n",
            "4500/4500 - 14s - loss: 0.4267 - accuracy: 0.7970 - val_loss: 0.5195 - val_accuracy: 0.7448\n",
            "Training Complete\n"
          ],
          "name": "stdout"
        }
      ]
    },
    {
      "cell_type": "code",
      "metadata": {
        "colab_type": "code",
        "id": "qxju4ItJKO8F",
        "colab": {
          "base_uri": "https://localhost:8080/",
          "height": 607
        },
        "outputId": "ffb1bcec-873a-4fd0-e012-afa4b8f09f61"
      },
      "source": [
        "import matplotlib.image  as mpimg\n",
        "import matplotlib.pyplot as plt\n",
        "\n",
        "#-----------------------------------------------------------\n",
        "# Retrieve a list of list results on training and test data\n",
        "# sets for each training epoch\n",
        "#-----------------------------------------------------------\n",
        "acc=history.history['accuracy']\n",
        "val_acc=history.history['val_accuracy']\n",
        "loss=history.history['loss']\n",
        "val_loss=history.history['val_loss']\n",
        "\n",
        "epochs=range(len(acc)) # Get number of epochs\n",
        "\n",
        "#------------------------------------------------\n",
        "# Plot training and validation accuracy per epoch\n",
        "#------------------------------------------------\n",
        "plt.plot(epochs, acc, 'r')\n",
        "plt.plot(epochs, val_acc, 'b')\n",
        "plt.title('Training and validation accuracy')\n",
        "plt.xlabel(\"Epochs\")\n",
        "plt.ylabel(\"Accuracy\")\n",
        "plt.legend([\"Accuracy\", \"Validation Accuracy\"])\n",
        "\n",
        "plt.figure()\n",
        "\n",
        "#------------------------------------------------\n",
        "# Plot training and validation loss per epoch\n",
        "#------------------------------------------------\n",
        "plt.plot(epochs, loss, 'r')\n",
        "plt.plot(epochs, val_loss, 'b')\n",
        "plt.title('Training and validation loss')\n",
        "plt.xlabel(\"Epochs\")\n",
        "plt.ylabel(\"Loss\")\n",
        "plt.legend([\"Loss\", \"Validation Loss\"])\n",
        "\n",
        "plt.figure()\n",
        "\n",
        "\n",
        "# Expected Output\n",
        "# A chart where the validation loss does not increase sharply!"
      ],
      "execution_count": 14,
      "outputs": [
        {
          "output_type": "execute_result",
          "data": {
            "text/plain": [
              "<Figure size 432x288 with 0 Axes>"
            ]
          },
          "metadata": {
            "tags": []
          },
          "execution_count": 14
        },
        {
          "output_type": "display_data",
          "data": {
            "image/png": "[encoded data removed]",
            "text/plain": [
              "<Figure size 432x288 with 1 Axes>"
            ]
          },
          "metadata": {
            "tags": [],
            "needs_background": "light"
          }
        },
        {
          "output_type": "display_data",
          "data": {
            "image/png": "[encoded data removed]",
            "text/plain": [
              "<Figure size 432x288 with 1 Axes>"
            ]
          },
          "metadata": {
            "tags": [],
            "needs_background": "light"
          }
        },
        {
          "output_type": "display_data",
          "data": {
            "text/plain": [
              "<Figure size 432x288 with 0 Axes>"
            ]
          },
          "metadata": {
            "tags": []
          }
        }
      ]
    },
    {
      "cell_type": "code",
      "metadata": {
        "id": "g75yENcaFvAB",
        "colab_type": "code",
        "colab": {}
      },
      "source": [
        ""
      ],
      "execution_count": null,
      "outputs": []
    }
  ]
}