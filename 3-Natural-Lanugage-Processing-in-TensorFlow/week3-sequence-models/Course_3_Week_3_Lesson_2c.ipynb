{
  "nbformat": 4,
  "nbformat_minor": 0,
  "metadata": {
    "accelerator": "GPU",
    "colab": {
      "name": "Course 3 - Week 3 - Lesson 2c.ipynb",
      "provenance": [],
      "collapsed_sections": [],
      "toc_visible": true
    },
    "kernelspec": {
      "display_name": "Python 3",
      "language": "python",
      "name": "python3"
    },
    "language_info": {
      "codemirror_mode": {
        "name": "ipython",
        "version": 3
      },
      "file_extension": ".py",
      "mimetype": "text/x-python",
      "name": "python",
      "nbconvert_exporter": "python",
      "pygments_lexer": "ipython3",
      "version": "3.7.6"
    }
  },
  "cells": [
    {
      "cell_type": "code",
      "metadata": {
        "colab_type": "code",
        "id": "zX4Kg8DUTKWO",
        "colab": {}
      },
      "source": [
        "#@title Licensed under the Apache License, Version 2.0 (the \"License\");\n",
        "# you may not use this file except in compliance with the License.\n",
        "# You may obtain a copy of the License at\n",
        "#\n",
        "# https://www.apache.org/licenses/LICENSE-2.0\n",
        "#\n",
        "# Unless required by applicable law or agreed to in writing, software\n",
        "# distributed under the License is distributed on an \"AS IS\" BASIS,\n",
        "# WITHOUT WARRANTIES OR CONDITIONS OF ANY KIND, either express or implied.\n",
        "# See the License for the specific language governing permissions and\n",
        "# limitations under the License."
      ],
      "execution_count": null,
      "outputs": []
    },
    {
      "cell_type": "markdown",
      "metadata": {
        "id": "JfrUzgnK8Ik0",
        "colab_type": "text"
      },
      "source": [
        "<a href=\"https://colab.research.google.com/github/lmoroney/dlaicourse/blob/master/TensorFlow%20In%20Practice/Course%203%20-%20NLP/Course%203%20-%20Week%203%20-%20Lesson%202c.ipynb\" target=\"_parent\"><img src=\"https://colab.research.google.com/assets/colab-badge.svg\" alt=\"Open In Colab\"/></a>"
      ]
    },
    {
      "cell_type": "code",
      "metadata": {
        "colab_type": "code",
        "id": "jGwXGIXvFhXW",
        "colab": {
          "base_uri": "https://localhost:8080/",
          "height": 1000
        },
        "outputId": "b86b3de5-136f-4d11-cf10-36eb25114256"
      },
      "source": [
        "import numpy as np\n",
        "\n",
        "import json\n",
        "import tensorflow as tf\n",
        "\n",
        "from tensorflow.keras.preprocessing.text import Tokenizer\n",
        "from tensorflow.keras.preprocessing.sequence import pad_sequences\n",
        "\n",
        "!wget --no-check-certificate \\\n",
        "    https://storage.googleapis.com/laurencemoroney-blog.appspot.com/sarcasm.json \\\n",
        "    -O /tmp/sarcasm.json\n",
        "\n",
        "vocab_size = 1000\n",
        "embedding_dim = 16\n",
        "max_length = 120\n",
        "trunc_type='post'\n",
        "padding_type='post'\n",
        "oov_tok = \"<OOV>\"\n",
        "training_size = 20000\n",
        "\n",
        "\n",
        "with open(\"/tmp/sarcasm.json\", 'r') as f:\n",
        "    datastore = json.load(f)\n",
        "\n",
        "\n",
        "sentences = []\n",
        "labels = []\n",
        "urls = []\n",
        "for item in datastore:\n",
        "    sentences.append(item['headline'])\n",
        "    labels.append(item['is_sarcastic'])\n",
        "\n",
        "training_sentences = sentences[0:training_size]\n",
        "testing_sentences = sentences[training_size:]\n",
        "training_labels = labels[0:training_size]\n",
        "testing_labels = labels[training_size:]\n",
        "\n",
        "tokenizer = Tokenizer(num_words=vocab_size, oov_token=oov_tok)\n",
        "tokenizer.fit_on_texts(training_sentences)\n",
        "\n",
        "word_index = tokenizer.word_index\n",
        "\n",
        "training_sequences = tokenizer.texts_to_sequences(training_sentences)\n",
        "training_padded = pad_sequences(training_sequences, maxlen=max_length, padding=padding_type, truncating=trunc_type)\n",
        "\n",
        "testing_sequences = tokenizer.texts_to_sequences(testing_sentences)\n",
        "testing_padded = pad_sequences(testing_sequences, maxlen=max_length, padding=padding_type, truncating=trunc_type)\n",
        "\n",
        "model = tf.keras.Sequential([\n",
        "    tf.keras.layers.Embedding(vocab_size, embedding_dim, input_length=max_length),\n",
        "    tf.keras.layers.Conv1D(128, 5, activation='relu'),\n",
        "    tf.keras.layers.GlobalMaxPooling1D(),\n",
        "    tf.keras.layers.Dense(24, activation='relu'),\n",
        "    tf.keras.layers.Dense(1, activation='sigmoid')\n",
        "])\n",
        "model.compile(loss='binary_crossentropy',optimizer='adam',metrics=['accuracy'])\n",
        "model.summary()\n",
        "\n",
        "num_epochs = 50\n",
        "\n",
        "training_padded = np.array(training_padded)\n",
        "training_labels = np.array(training_labels)\n",
        "testing_padded = np.array(testing_padded)\n",
        "testing_labels = np.array(testing_labels)\n",
        "\n",
        "history = model.fit(training_padded, training_labels, epochs=num_epochs, validation_data=(testing_padded, testing_labels), verbose=1)\n"
      ],
      "execution_count": 1,
      "outputs": [
        {
          "output_type": "stream",
          "text": [
            "--2020-09-17 12:01:35--  https://storage.googleapis.com/laurencemoroney-blog.appspot.com/sarcasm.json\n",
            "Resolving storage.googleapis.com (storage.googleapis.com)... 74.125.206.128, 74.125.133.128, 108.177.15.128, ...\n",
            "Connecting to storage.googleapis.com (storage.googleapis.com)|74.125.206.128|:443... connected.\n",
            "HTTP request sent, awaiting response... 200 OK\n",
            "Length: 5643545 (5.4M) [application/json]\n",
            "Saving to: ‘/tmp/sarcasm.json’\n",
            "\n",
            "\r/tmp/sarcasm.json     0%[                    ]       0  --.-KB/s               \r/tmp/sarcasm.json   100%[===================>]   5.38M  --.-KB/s    in 0.04s   \n",
            "\n",
            "2020-09-17 12:01:35 (138 MB/s) - ‘/tmp/sarcasm.json’ saved [5643545/5643545]\n",
            "\n",
            "Model: \"sequential\"\n",
            "_________________________________________________________________\n",
            "Layer (type)                 Output Shape              Param #   \n",
            "=================================================================\n",
            "embedding (Embedding)        (None, 120, 16)           16000     \n",
            "_________________________________________________________________\n",
            "conv1d (Conv1D)              (None, 116, 128)          10368     \n",
            "_________________________________________________________________\n",
            "global_max_pooling1d (Global (None, 128)               0         \n",
            "_________________________________________________________________\n",
            "dense (Dense)                (None, 24)                3096      \n",
            "_________________________________________________________________\n",
            "dense_1 (Dense)              (None, 1)                 25        \n",
            "=================================================================\n",
            "Total params: 29,489\n",
            "Trainable params: 29,489\n",
            "Non-trainable params: 0\n",
            "_________________________________________________________________\n",
            "Epoch 1/50\n",
            "625/625 [==============================] - 4s 6ms/step - loss: 0.4677 - accuracy: 0.7645 - val_loss: 0.4035 - val_accuracy: 0.8177\n",
            "Epoch 2/50\n",
            "625/625 [==============================] - 4s 6ms/step - loss: 0.3579 - accuracy: 0.8387 - val_loss: 0.3897 - val_accuracy: 0.8226\n",
            "Epoch 3/50\n",
            "625/625 [==============================] - 4s 6ms/step - loss: 0.3204 - accuracy: 0.8590 - val_loss: 0.3876 - val_accuracy: 0.8265\n",
            "Epoch 4/50\n",
            "625/625 [==============================] - 4s 6ms/step - loss: 0.2866 - accuracy: 0.8765 - val_loss: 0.4052 - val_accuracy: 0.8243\n",
            "Epoch 5/50\n",
            "625/625 [==============================] - 4s 6ms/step - loss: 0.2520 - accuracy: 0.8934 - val_loss: 0.4176 - val_accuracy: 0.8229\n",
            "Epoch 6/50\n",
            "625/625 [==============================] - 4s 6ms/step - loss: 0.2170 - accuracy: 0.9101 - val_loss: 0.4701 - val_accuracy: 0.8135\n",
            "Epoch 7/50\n",
            "625/625 [==============================] - 4s 6ms/step - loss: 0.1831 - accuracy: 0.9290 - val_loss: 0.5148 - val_accuracy: 0.8129\n",
            "Epoch 8/50\n",
            "625/625 [==============================] - 4s 6ms/step - loss: 0.1505 - accuracy: 0.9437 - val_loss: 0.5695 - val_accuracy: 0.8119\n",
            "Epoch 9/50\n",
            "625/625 [==============================] - 4s 6ms/step - loss: 0.1219 - accuracy: 0.9559 - val_loss: 0.6590 - val_accuracy: 0.8098\n",
            "Epoch 10/50\n",
            "625/625 [==============================] - 4s 6ms/step - loss: 0.1010 - accuracy: 0.9638 - val_loss: 0.7234 - val_accuracy: 0.8038\n",
            "Epoch 11/50\n",
            "625/625 [==============================] - 4s 6ms/step - loss: 0.0842 - accuracy: 0.9693 - val_loss: 0.8006 - val_accuracy: 0.8016\n",
            "Epoch 12/50\n",
            "625/625 [==============================] - 4s 7ms/step - loss: 0.0719 - accuracy: 0.9739 - val_loss: 0.9371 - val_accuracy: 0.7976\n",
            "Epoch 13/50\n",
            "625/625 [==============================] - 4s 7ms/step - loss: 0.0638 - accuracy: 0.9769 - val_loss: 1.0182 - val_accuracy: 0.7939\n",
            "Epoch 14/50\n",
            "625/625 [==============================] - 4s 6ms/step - loss: 0.0539 - accuracy: 0.9805 - val_loss: 1.1288 - val_accuracy: 0.7948\n",
            "Epoch 15/50\n",
            "625/625 [==============================] - 4s 6ms/step - loss: 0.0474 - accuracy: 0.9844 - val_loss: 1.1492 - val_accuracy: 0.7989\n",
            "Epoch 16/50\n",
            "625/625 [==============================] - 4s 6ms/step - loss: 0.0451 - accuracy: 0.9832 - val_loss: 1.2328 - val_accuracy: 0.7934\n",
            "Epoch 17/50\n",
            "625/625 [==============================] - 4s 6ms/step - loss: 0.0403 - accuracy: 0.9847 - val_loss: 1.4093 - val_accuracy: 0.7916\n",
            "Epoch 18/50\n",
            "625/625 [==============================] - 4s 6ms/step - loss: 0.0404 - accuracy: 0.9848 - val_loss: 1.4118 - val_accuracy: 0.7916\n",
            "Epoch 19/50\n",
            "625/625 [==============================] - 4s 6ms/step - loss: 0.0359 - accuracy: 0.9866 - val_loss: 1.4664 - val_accuracy: 0.7934\n",
            "Epoch 20/50\n",
            "625/625 [==============================] - 4s 6ms/step - loss: 0.0351 - accuracy: 0.9863 - val_loss: 1.4857 - val_accuracy: 0.7968\n",
            "Epoch 21/50\n",
            "625/625 [==============================] - 4s 6ms/step - loss: 0.0340 - accuracy: 0.9871 - val_loss: 1.5768 - val_accuracy: 0.7906\n",
            "Epoch 22/50\n",
            "625/625 [==============================] - 4s 6ms/step - loss: 0.0380 - accuracy: 0.9844 - val_loss: 1.5915 - val_accuracy: 0.7937\n",
            "Epoch 23/50\n",
            "625/625 [==============================] - 4s 6ms/step - loss: 0.0360 - accuracy: 0.9862 - val_loss: 1.6310 - val_accuracy: 0.7906\n",
            "Epoch 24/50\n",
            "625/625 [==============================] - 4s 6ms/step - loss: 0.0289 - accuracy: 0.9886 - val_loss: 1.7923 - val_accuracy: 0.7904\n",
            "Epoch 25/50\n",
            "625/625 [==============================] - 4s 6ms/step - loss: 0.0285 - accuracy: 0.9883 - val_loss: 1.7758 - val_accuracy: 0.7942\n",
            "Epoch 26/50\n",
            "625/625 [==============================] - 4s 6ms/step - loss: 0.0276 - accuracy: 0.9879 - val_loss: 1.7361 - val_accuracy: 0.7892\n",
            "Epoch 27/50\n",
            "625/625 [==============================] - 4s 6ms/step - loss: 0.0243 - accuracy: 0.9895 - val_loss: 1.8973 - val_accuracy: 0.7939\n",
            "Epoch 28/50\n",
            "625/625 [==============================] - 4s 6ms/step - loss: 0.0244 - accuracy: 0.9898 - val_loss: 1.9578 - val_accuracy: 0.7886\n",
            "Epoch 29/50\n",
            "625/625 [==============================] - 4s 6ms/step - loss: 0.0393 - accuracy: 0.9848 - val_loss: 1.8033 - val_accuracy: 0.7898\n",
            "Epoch 30/50\n",
            "625/625 [==============================] - 4s 7ms/step - loss: 0.0254 - accuracy: 0.9894 - val_loss: 2.0511 - val_accuracy: 0.7894\n",
            "Epoch 31/50\n",
            "625/625 [==============================] - 4s 6ms/step - loss: 0.0224 - accuracy: 0.9908 - val_loss: 2.0162 - val_accuracy: 0.7940\n",
            "Epoch 32/50\n",
            "625/625 [==============================] - 4s 6ms/step - loss: 0.0260 - accuracy: 0.9890 - val_loss: 2.1057 - val_accuracy: 0.7892\n",
            "Epoch 33/50\n",
            "625/625 [==============================] - 4s 6ms/step - loss: 0.0269 - accuracy: 0.9887 - val_loss: 2.0897 - val_accuracy: 0.7877\n",
            "Epoch 34/50\n",
            "625/625 [==============================] - 4s 6ms/step - loss: 0.0271 - accuracy: 0.9892 - val_loss: 2.0868 - val_accuracy: 0.7946\n",
            "Epoch 35/50\n",
            "625/625 [==============================] - 4s 6ms/step - loss: 0.0242 - accuracy: 0.9898 - val_loss: 2.1655 - val_accuracy: 0.7916\n",
            "Epoch 36/50\n",
            "625/625 [==============================] - 4s 6ms/step - loss: 0.0250 - accuracy: 0.9895 - val_loss: 2.2066 - val_accuracy: 0.7882\n",
            "Epoch 37/50\n",
            "625/625 [==============================] - 4s 6ms/step - loss: 0.0302 - accuracy: 0.9880 - val_loss: 2.2158 - val_accuracy: 0.7863\n",
            "Epoch 38/50\n",
            "625/625 [==============================] - 4s 6ms/step - loss: 0.0237 - accuracy: 0.9894 - val_loss: 2.2163 - val_accuracy: 0.7977\n",
            "Epoch 39/50\n",
            "625/625 [==============================] - 4s 6ms/step - loss: 0.0190 - accuracy: 0.9918 - val_loss: 2.1842 - val_accuracy: 0.7919\n",
            "Epoch 40/50\n",
            "625/625 [==============================] - 4s 6ms/step - loss: 0.0199 - accuracy: 0.9916 - val_loss: 2.2559 - val_accuracy: 0.7922\n",
            "Epoch 41/50\n",
            "625/625 [==============================] - 4s 6ms/step - loss: 0.0266 - accuracy: 0.9890 - val_loss: 2.2232 - val_accuracy: 0.7846\n",
            "Epoch 42/50\n",
            "625/625 [==============================] - 4s 6ms/step - loss: 0.0288 - accuracy: 0.9888 - val_loss: 2.2276 - val_accuracy: 0.7895\n",
            "Epoch 43/50\n",
            "625/625 [==============================] - 4s 6ms/step - loss: 0.0193 - accuracy: 0.9912 - val_loss: 2.2942 - val_accuracy: 0.7870\n",
            "Epoch 44/50\n",
            "625/625 [==============================] - 4s 6ms/step - loss: 0.0169 - accuracy: 0.9923 - val_loss: 2.4708 - val_accuracy: 0.7858\n",
            "Epoch 45/50\n",
            "625/625 [==============================] - 4s 6ms/step - loss: 0.0170 - accuracy: 0.9924 - val_loss: 2.4310 - val_accuracy: 0.7904\n",
            "Epoch 46/50\n",
            "625/625 [==============================] - 4s 6ms/step - loss: 0.0185 - accuracy: 0.9918 - val_loss: 2.4967 - val_accuracy: 0.7889\n",
            "Epoch 47/50\n",
            "625/625 [==============================] - 4s 6ms/step - loss: 0.0247 - accuracy: 0.9895 - val_loss: 2.5016 - val_accuracy: 0.7816\n",
            "Epoch 48/50\n",
            "625/625 [==============================] - 4s 6ms/step - loss: 0.0277 - accuracy: 0.9889 - val_loss: 2.4366 - val_accuracy: 0.7919\n",
            "Epoch 49/50\n",
            "625/625 [==============================] - 4s 6ms/step - loss: 0.0228 - accuracy: 0.9905 - val_loss: 2.4561 - val_accuracy: 0.7916\n",
            "Epoch 50/50\n",
            "625/625 [==============================] - 4s 6ms/step - loss: 0.0190 - accuracy: 0.9917 - val_loss: 2.5123 - val_accuracy: 0.7936\n"
          ],
          "name": "stdout"
        }
      ]
    },
    {
      "cell_type": "code",
      "metadata": {
        "colab_type": "code",
        "id": "g9DC6dmLF8DC",
        "colab": {
          "base_uri": "https://localhost:8080/",
          "height": 542
        },
        "outputId": "07887a69-1496-4211-c02a-e9ae7d65ea2c"
      },
      "source": [
        "import matplotlib.pyplot as plt\n",
        "\n",
        "\n",
        "def plot_graphs(history, string):\n",
        "  plt.plot(history.history[string])\n",
        "  plt.plot(history.history['val_'+string])\n",
        "  plt.xlabel(\"Epochs\")\n",
        "  plt.ylabel(string)\n",
        "  plt.legend([string, 'val_'+string])\n",
        "  plt.show()\n",
        "\n",
        "plot_graphs(history, 'accuracy')\n",
        "plot_graphs(history, 'loss')"
      ],
      "execution_count": 2,
      "outputs": [
        {
          "output_type": "display_data",
          "data": {
            "image/png": "[encoded data removed]",
            "text/plain": [
              "<Figure size 432x288 with 1 Axes>"
            ]
          },
          "metadata": {
            "tags": [],
            "needs_background": "light"
          }
        },
        {
          "output_type": "display_data",
          "data": {
            "image/png": "[encoded data removed]",
            "text/plain": [
              "<Figure size 432x288 with 1 Axes>"
            ]
          },
          "metadata": {
            "tags": [],
            "needs_background": "light"
          }
        }
      ]
    },
    {
      "cell_type": "code",
      "metadata": {
        "colab_type": "code",
        "id": "7ZEZIUppGhdi",
        "colab": {}
      },
      "source": [
        "model.save(\"test.h5\")"
      ],
      "execution_count": 3,
      "outputs": []
    },
    {
      "cell_type": "code",
      "metadata": {
        "id": "g2Knbb5f8OXq",
        "colab_type": "code",
        "colab": {}
      },
      "source": [
        ""
      ],
      "execution_count": null,
      "outputs": []
    }
  ]
}