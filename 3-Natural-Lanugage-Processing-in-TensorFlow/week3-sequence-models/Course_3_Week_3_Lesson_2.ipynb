{
  "nbformat": 4,
  "nbformat_minor": 0,
  "metadata": {
    "accelerator": "GPU",
    "colab": {
      "name": "Course 3 - Week 3 - Lesson 2.ipynb",
      "provenance": [],
      "collapsed_sections": [],
      "toc_visible": true
    },
    "kernelspec": {
      "display_name": "Python 3",
      "language": "python",
      "name": "python3"
    },
    "language_info": {
      "codemirror_mode": {
        "name": "ipython",
        "version": 3
      },
      "file_extension": ".py",
      "mimetype": "text/x-python",
      "name": "python",
      "nbconvert_exporter": "python",
      "pygments_lexer": "ipython3",
      "version": "3.7.6"
    }
  },
  "cells": [
    {
      "cell_type": "code",
      "metadata": {
        "colab_type": "code",
        "id": "zX4Kg8DUTKWO",
        "colab": {}
      },
      "source": [
        "#@title Licensed under the Apache License, Version 2.0 (the \"License\");\n",
        "# you may not use this file except in compliance with the License.\n",
        "# You may obtain a copy of the License at\n",
        "#\n",
        "# https://www.apache.org/licenses/LICENSE-2.0\n",
        "#\n",
        "# Unless required by applicable law or agreed to in writing, software\n",
        "# distributed under the License is distributed on an \"AS IS\" BASIS,\n",
        "# WITHOUT WARRANTIES OR CONDITIONS OF ANY KIND, either express or implied.\n",
        "# See the License for the specific language governing permissions and\n",
        "# limitations under the License."
      ],
      "execution_count": null,
      "outputs": []
    },
    {
      "cell_type": "markdown",
      "metadata": {
        "id": "YTj1kSZ_8Hqx",
        "colab_type": "text"
      },
      "source": [
        "<a href=\"https://colab.research.google.com/github/lmoroney/dlaicourse/blob/master/TensorFlow%20In%20Practice/Course%203%20-%20NLP/Course%203%20-%20Week%203%20-%20Lesson%202.ipynb\" target=\"_parent\"><img src=\"https://colab.research.google.com/assets/colab-badge.svg\" alt=\"Open In Colab\"/></a>"
      ]
    },
    {
      "cell_type": "code",
      "metadata": {
        "colab_type": "code",
        "id": "jGwXGIXvFhXW",
        "colab": {
          "base_uri": "https://localhost:8080/",
          "height": 1000
        },
        "outputId": "1f499518-800c-4c1b-abea-9ec7d7320929"
      },
      "source": [
        "import numpy as np\n",
        "\n",
        "import json\n",
        "import tensorflow as tf\n",
        "\n",
        "from tensorflow.keras.preprocessing.text import Tokenizer\n",
        "from tensorflow.keras.preprocessing.sequence import pad_sequences\n",
        "\n",
        "!wget --no-check-certificate \\\n",
        "    https://storage.googleapis.com/laurencemoroney-blog.appspot.com/sarcasm.json \\\n",
        "    -O /tmp/sarcasm.json\n",
        "\n",
        "vocab_size = 1000\n",
        "embedding_dim = 16\n",
        "max_length = 120\n",
        "trunc_type='post'\n",
        "padding_type='post'\n",
        "oov_tok = \"<OOV>\"\n",
        "training_size = 20000\n",
        "\n",
        "\n",
        "with open(\"/tmp/sarcasm.json\", 'r') as f:\n",
        "    datastore = json.load(f)\n",
        "\n",
        "\n",
        "sentences = []\n",
        "labels = []\n",
        "urls = []\n",
        "for item in datastore:\n",
        "    sentences.append(item['headline'])\n",
        "    labels.append(item['is_sarcastic'])\n",
        "\n",
        "training_sentences = sentences[0:training_size]\n",
        "testing_sentences = sentences[training_size:]\n",
        "training_labels = labels[0:training_size]\n",
        "testing_labels = labels[training_size:]\n",
        "\n",
        "tokenizer = Tokenizer(num_words=vocab_size, oov_token=oov_tok)\n",
        "tokenizer.fit_on_texts(training_sentences)\n",
        "\n",
        "word_index = tokenizer.word_index\n",
        "\n",
        "training_sequences = tokenizer.texts_to_sequences(training_sentences)\n",
        "training_padded = pad_sequences(training_sequences, maxlen=max_length, padding=padding_type, truncating=trunc_type)\n",
        "\n",
        "testing_sequences = tokenizer.texts_to_sequences(testing_sentences)\n",
        "testing_padded = pad_sequences(testing_sequences, maxlen=max_length, padding=padding_type, truncating=trunc_type)\n",
        "\n",
        "model = tf.keras.Sequential([\n",
        "    tf.keras.layers.Embedding(vocab_size, embedding_dim, input_length=max_length),\n",
        "    tf.keras.layers.Bidirectional(tf.keras.layers.LSTM(32)),\n",
        "    tf.keras.layers.Dense(24, activation='relu'),\n",
        "    tf.keras.layers.Dense(1, activation='sigmoid')\n",
        "])\n",
        "model.compile(loss='binary_crossentropy',optimizer='adam',metrics=['accuracy'])\n",
        "model.summary()\n",
        "\n",
        "num_epochs = 50\n",
        "training_padded = np.array(training_padded)\n",
        "training_labels = np.array(training_labels)\n",
        "testing_padded = np.array(testing_padded)\n",
        "testing_labels = np.array(testing_labels)\n",
        "history = model.fit(training_padded, training_labels, epochs=num_epochs, validation_data=(testing_padded, testing_labels), verbose=1)\n"
      ],
      "execution_count": 1,
      "outputs": [
        {
          "output_type": "stream",
          "text": [
            "--2020-09-17 12:11:21--  https://storage.googleapis.com/laurencemoroney-blog.appspot.com/sarcasm.json\n",
            "Resolving storage.googleapis.com (storage.googleapis.com)... 173.194.69.128, 108.177.96.128, 108.177.119.128, ...\n",
            "Connecting to storage.googleapis.com (storage.googleapis.com)|173.194.69.128|:443... connected.\n",
            "HTTP request sent, awaiting response... 200 OK\n",
            "Length: 5643545 (5.4M) [application/json]\n",
            "Saving to: ‘/tmp/sarcasm.json’\n",
            "\n",
            "/tmp/sarcasm.json   100%[===================>]   5.38M  34.2MB/s    in 0.2s    \n",
            "\n",
            "2020-09-17 12:11:22 (34.2 MB/s) - ‘/tmp/sarcasm.json’ saved [5643545/5643545]\n",
            "\n",
            "Model: \"sequential\"\n",
            "_________________________________________________________________\n",
            "Layer (type)                 Output Shape              Param #   \n",
            "=================================================================\n",
            "embedding (Embedding)        (None, 120, 16)           16000     \n",
            "_________________________________________________________________\n",
            "bidirectional (Bidirectional (None, 64)                12544     \n",
            "_________________________________________________________________\n",
            "dense (Dense)                (None, 24)                1560      \n",
            "_________________________________________________________________\n",
            "dense_1 (Dense)              (None, 1)                 25        \n",
            "=================================================================\n",
            "Total params: 30,129\n",
            "Trainable params: 30,129\n",
            "Non-trainable params: 0\n",
            "_________________________________________________________________\n",
            "Epoch 1/50\n",
            "625/625 [==============================] - 8s 13ms/step - loss: 0.4475 - accuracy: 0.7712 - val_loss: 0.4079 - val_accuracy: 0.8059\n",
            "Epoch 2/50\n",
            "625/625 [==============================] - 8s 12ms/step - loss: 0.3507 - accuracy: 0.8382 - val_loss: 0.3729 - val_accuracy: 0.8293\n",
            "Epoch 3/50\n",
            "625/625 [==============================] - 8s 12ms/step - loss: 0.3229 - accuracy: 0.8540 - val_loss: 0.3670 - val_accuracy: 0.8323\n",
            "Epoch 4/50\n",
            "625/625 [==============================] - 8s 13ms/step - loss: 0.3049 - accuracy: 0.8647 - val_loss: 0.3765 - val_accuracy: 0.8313\n",
            "Epoch 5/50\n",
            "625/625 [==============================] - 8s 13ms/step - loss: 0.2909 - accuracy: 0.8716 - val_loss: 0.3749 - val_accuracy: 0.8311\n",
            "Epoch 6/50\n",
            "625/625 [==============================] - 8s 13ms/step - loss: 0.2792 - accuracy: 0.8798 - val_loss: 0.3900 - val_accuracy: 0.8290\n",
            "Epoch 7/50\n",
            "625/625 [==============================] - 8s 13ms/step - loss: 0.2698 - accuracy: 0.8826 - val_loss: 0.3916 - val_accuracy: 0.8284\n",
            "Epoch 8/50\n",
            "625/625 [==============================] - 8s 12ms/step - loss: 0.2629 - accuracy: 0.8850 - val_loss: 0.4119 - val_accuracy: 0.8222\n",
            "Epoch 9/50\n",
            "625/625 [==============================] - 8s 12ms/step - loss: 0.2524 - accuracy: 0.8919 - val_loss: 0.4011 - val_accuracy: 0.8252\n",
            "Epoch 10/50\n",
            "625/625 [==============================] - 8s 12ms/step - loss: 0.2428 - accuracy: 0.8945 - val_loss: 0.4094 - val_accuracy: 0.8261\n",
            "Epoch 11/50\n",
            "625/625 [==============================] - 8s 12ms/step - loss: 0.2332 - accuracy: 0.8990 - val_loss: 0.4354 - val_accuracy: 0.8231\n",
            "Epoch 12/50\n",
            "625/625 [==============================] - 8s 12ms/step - loss: 0.2244 - accuracy: 0.9043 - val_loss: 0.4533 - val_accuracy: 0.8240\n",
            "Epoch 13/50\n",
            "625/625 [==============================] - 8s 12ms/step - loss: 0.2168 - accuracy: 0.9064 - val_loss: 0.4605 - val_accuracy: 0.8190\n",
            "Epoch 14/50\n",
            "625/625 [==============================] - 8s 12ms/step - loss: 0.2130 - accuracy: 0.9095 - val_loss: 0.4698 - val_accuracy: 0.8185\n",
            "Epoch 15/50\n",
            "625/625 [==============================] - 8s 13ms/step - loss: 0.2037 - accuracy: 0.9139 - val_loss: 0.5224 - val_accuracy: 0.8174\n",
            "Epoch 16/50\n",
            "625/625 [==============================] - 8s 13ms/step - loss: 0.1966 - accuracy: 0.9168 - val_loss: 0.5108 - val_accuracy: 0.8101\n",
            "Epoch 17/50\n",
            "625/625 [==============================] - 8s 13ms/step - loss: 0.1887 - accuracy: 0.9212 - val_loss: 0.6063 - val_accuracy: 0.8146\n",
            "Epoch 18/50\n",
            "625/625 [==============================] - 8s 12ms/step - loss: 0.1837 - accuracy: 0.9222 - val_loss: 0.6149 - val_accuracy: 0.8083\n",
            "Epoch 19/50\n",
            "625/625 [==============================] - 8s 12ms/step - loss: 0.1792 - accuracy: 0.9251 - val_loss: 0.6423 - val_accuracy: 0.8111\n",
            "Epoch 20/50\n",
            "625/625 [==============================] - 8s 13ms/step - loss: 0.1721 - accuracy: 0.9272 - val_loss: 0.7012 - val_accuracy: 0.8041\n",
            "Epoch 21/50\n",
            "625/625 [==============================] - 8s 12ms/step - loss: 0.1643 - accuracy: 0.9321 - val_loss: 0.6742 - val_accuracy: 0.8049\n",
            "Epoch 22/50\n",
            "625/625 [==============================] - 8s 12ms/step - loss: 0.1627 - accuracy: 0.9322 - val_loss: 0.6900 - val_accuracy: 0.8103\n",
            "Epoch 23/50\n",
            "625/625 [==============================] - 8s 12ms/step - loss: 0.1535 - accuracy: 0.9367 - val_loss: 0.7116 - val_accuracy: 0.8106\n",
            "Epoch 24/50\n",
            "625/625 [==============================] - 8s 12ms/step - loss: 0.1487 - accuracy: 0.9377 - val_loss: 0.8799 - val_accuracy: 0.8064\n",
            "Epoch 25/50\n",
            "625/625 [==============================] - 8s 12ms/step - loss: 0.1456 - accuracy: 0.9408 - val_loss: 0.9045 - val_accuracy: 0.8101\n",
            "Epoch 26/50\n",
            "625/625 [==============================] - 8s 12ms/step - loss: 0.1391 - accuracy: 0.9420 - val_loss: 0.8723 - val_accuracy: 0.8076\n",
            "Epoch 27/50\n",
            "625/625 [==============================] - 8s 12ms/step - loss: 0.1365 - accuracy: 0.9433 - val_loss: 0.8463 - val_accuracy: 0.8086\n",
            "Epoch 28/50\n",
            "625/625 [==============================] - 8s 12ms/step - loss: 0.1318 - accuracy: 0.9444 - val_loss: 0.8616 - val_accuracy: 0.8104\n",
            "Epoch 29/50\n",
            "625/625 [==============================] - 8s 12ms/step - loss: 0.1237 - accuracy: 0.9481 - val_loss: 0.9708 - val_accuracy: 0.8064\n",
            "Epoch 30/50\n",
            "625/625 [==============================] - 8s 12ms/step - loss: 0.1149 - accuracy: 0.9516 - val_loss: 1.1785 - val_accuracy: 0.7937\n",
            "Epoch 31/50\n",
            "625/625 [==============================] - 8s 12ms/step - loss: 0.1145 - accuracy: 0.9507 - val_loss: 1.1545 - val_accuracy: 0.8041\n",
            "Epoch 32/50\n",
            "625/625 [==============================] - 8s 12ms/step - loss: 0.1143 - accuracy: 0.9524 - val_loss: 1.1191 - val_accuracy: 0.7985\n",
            "Epoch 33/50\n",
            "625/625 [==============================] - 8s 12ms/step - loss: 0.1096 - accuracy: 0.9534 - val_loss: 1.1504 - val_accuracy: 0.8019\n",
            "Epoch 34/50\n",
            "625/625 [==============================] - 8s 13ms/step - loss: 0.1023 - accuracy: 0.9566 - val_loss: 1.2423 - val_accuracy: 0.7979\n",
            "Epoch 35/50\n",
            "625/625 [==============================] - 8s 13ms/step - loss: 0.0959 - accuracy: 0.9589 - val_loss: 1.2521 - val_accuracy: 0.7961\n",
            "Epoch 36/50\n",
            "625/625 [==============================] - 8s 12ms/step - loss: 0.0983 - accuracy: 0.9567 - val_loss: 1.2806 - val_accuracy: 0.7985\n",
            "Epoch 37/50\n",
            "625/625 [==============================] - 8s 12ms/step - loss: 0.0937 - accuracy: 0.9599 - val_loss: 1.3822 - val_accuracy: 0.7942\n",
            "Epoch 38/50\n",
            "625/625 [==============================] - 8s 12ms/step - loss: 0.0953 - accuracy: 0.9592 - val_loss: 1.2711 - val_accuracy: 0.7943\n",
            "Epoch 39/50\n",
            "625/625 [==============================] - 8s 12ms/step - loss: 0.0903 - accuracy: 0.9594 - val_loss: 1.3605 - val_accuracy: 0.7965\n",
            "Epoch 40/50\n",
            "625/625 [==============================] - 8s 12ms/step - loss: 0.0846 - accuracy: 0.9628 - val_loss: 1.4950 - val_accuracy: 0.7965\n",
            "Epoch 41/50\n",
            "625/625 [==============================] - 8s 12ms/step - loss: 0.0832 - accuracy: 0.9624 - val_loss: 1.5836 - val_accuracy: 0.8004\n",
            "Epoch 42/50\n",
            "625/625 [==============================] - 8s 12ms/step - loss: 0.0813 - accuracy: 0.9638 - val_loss: 1.6304 - val_accuracy: 0.8010\n",
            "Epoch 43/50\n",
            "625/625 [==============================] - 8s 12ms/step - loss: 0.0816 - accuracy: 0.9636 - val_loss: 1.6688 - val_accuracy: 0.7952\n",
            "Epoch 44/50\n",
            "625/625 [==============================] - 8s 12ms/step - loss: 0.0736 - accuracy: 0.9657 - val_loss: 1.8006 - val_accuracy: 0.7939\n",
            "Epoch 45/50\n",
            "625/625 [==============================] - 8s 12ms/step - loss: 0.0713 - accuracy: 0.9669 - val_loss: 1.7962 - val_accuracy: 0.7992\n",
            "Epoch 46/50\n",
            "625/625 [==============================] - 8s 12ms/step - loss: 0.0746 - accuracy: 0.9650 - val_loss: 1.6947 - val_accuracy: 0.7971\n",
            "Epoch 47/50\n",
            "625/625 [==============================] - 8s 12ms/step - loss: 0.0743 - accuracy: 0.9662 - val_loss: 1.5733 - val_accuracy: 0.7995\n",
            "Epoch 48/50\n",
            "625/625 [==============================] - 8s 13ms/step - loss: 0.0721 - accuracy: 0.9665 - val_loss: 1.7336 - val_accuracy: 0.7988\n",
            "Epoch 49/50\n",
            "625/625 [==============================] - 8s 12ms/step - loss: 0.0695 - accuracy: 0.9671 - val_loss: 1.6696 - val_accuracy: 0.8010\n",
            "Epoch 50/50\n",
            "625/625 [==============================] - 8s 13ms/step - loss: 0.0637 - accuracy: 0.9694 - val_loss: 1.7629 - val_accuracy: 0.7945\n"
          ],
          "name": "stdout"
        }
      ]
    },
    {
      "cell_type": "code",
      "metadata": {
        "colab_type": "code",
        "id": "g9DC6dmLF8DC",
        "colab": {
          "base_uri": "https://localhost:8080/",
          "height": 541
        },
        "outputId": "194f730e-3d47-4f29-b8e5-e29a66b5f0d8"
      },
      "source": [
        "import matplotlib.pyplot as plt\n",
        "\n",
        "\n",
        "def plot_graphs(history, string):\n",
        "  plt.plot(history.history[string])\n",
        "  plt.plot(history.history['val_'+string])\n",
        "  plt.xlabel(\"Epochs\")\n",
        "  plt.ylabel(string)\n",
        "  plt.legend([string, 'val_'+string])\n",
        "  plt.show()\n",
        "\n",
        "plot_graphs(history, 'accuracy')\n",
        "plot_graphs(history, 'loss')"
      ],
      "execution_count": 2,
      "outputs": [
        {
          "output_type": "display_data",
          "data": {
            "image/png": "[encoded data removed]",
            "text/plain": [
              "<Figure size 432x288 with 1 Axes>"
            ]
          },
          "metadata": {
            "tags": [],
            "needs_background": "light"
          }
        },
        {
          "output_type": "display_data",
          "data": {
            "image/png": "[encoded data removed]",
            "text/plain": [
              "<Figure size 432x288 with 1 Axes>"
            ]
          },
          "metadata": {
            "tags": [],
            "needs_background": "light"
          }
        }
      ]
    },
    {
      "cell_type": "code",
      "metadata": {
        "colab_type": "code",
        "id": "7ZEZIUppGhdi",
        "colab": {}
      },
      "source": [
        "model.save(\"test.h5\")"
      ],
      "execution_count": 3,
      "outputs": []
    },
    {
      "cell_type": "code",
      "metadata": {
        "id": "QJ3Ja5fR-cKD",
        "colab_type": "code",
        "colab": {}
      },
      "source": [
        ""
      ],
      "execution_count": null,
      "outputs": []
    }
  ]
}