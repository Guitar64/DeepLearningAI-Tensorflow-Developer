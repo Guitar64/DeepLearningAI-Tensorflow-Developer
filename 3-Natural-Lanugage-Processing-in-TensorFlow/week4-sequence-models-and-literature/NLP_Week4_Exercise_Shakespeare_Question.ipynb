{
  "nbformat": 4,
  "nbformat_minor": 0,
  "metadata": {
    "accelerator": "GPU",
    "colab": {
      "name": "NLP_Week4_Exercise_Shakespeare_Question.ipynb",
      "provenance": [],
      "toc_visible": true
    },
    "kernelspec": {
      "display_name": "Python 3",
      "name": "python3"
    }
  },
  "cells": [
    {
      "cell_type": "code",
      "metadata": {
        "id": "zX4Kg8DUTKWO",
        "colab_type": "code",
        "colab": {}
      },
      "source": [
        "#@title Licensed under the Apache License, Version 2.0 (the \"License\");\n",
        "# you may not use this file except in compliance with the License.\n",
        "# You may obtain a copy of the License at\n",
        "#\n",
        "# https://www.apache.org/licenses/LICENSE-2.0\n",
        "#\n",
        "# Unless required by applicable law or agreed to in writing, software\n",
        "# distributed under the License is distributed on an \"AS IS\" BASIS,\n",
        "# WITHOUT WARRANTIES OR CONDITIONS OF ANY KIND, either express or implied.\n",
        "# See the License for the specific language governing permissions and\n",
        "# limitations under the License."
      ],
      "execution_count": null,
      "outputs": []
    },
    {
      "cell_type": "code",
      "metadata": {
        "colab_type": "code",
        "id": "BOwsuGQQY9OL",
        "colab": {}
      },
      "source": [
        "from tensorflow.keras.preprocessing.sequence import pad_sequences\n",
        "from tensorflow.keras.layers import Embedding, LSTM, Dense, Dropout, Bidirectional\n",
        "from tensorflow.keras.preprocessing.text import Tokenizer\n",
        "from tensorflow.keras.models import Sequential\n",
        "from tensorflow.keras.optimizers import Adam\n",
        "### YOUR CODE HERE\n",
        "from tensorflow.keras import regularizers\n",
        "###\n",
        "import tensorflow.keras.utils as ku \n",
        "import numpy as np "
      ],
      "execution_count": 1,
      "outputs": []
    },
    {
      "cell_type": "code",
      "metadata": {
        "colab_type": "code",
        "id": "PRnDnCW-Z7qv",
        "colab": {
          "base_uri": "https://localhost:8080/",
          "height": 204
        },
        "outputId": "0bf3356d-defb-4c8a-c6e6-59f67f362e05"
      },
      "source": [
        "tokenizer = Tokenizer()\n",
        "!wget --no-check-certificate \\\n",
        "    https://storage.googleapis.com/laurencemoroney-blog.appspot.com/sonnets.txt \\\n",
        "    -O /tmp/sonnets.txt\n",
        "data = open('/tmp/sonnets.txt').read()\n",
        "\n",
        "corpus = data.lower().split(\"\\n\")\n",
        "\n",
        "\n",
        "tokenizer.fit_on_texts(corpus)\n",
        "total_words = len(tokenizer.word_index) + 1\n",
        "\n",
        "# create input sequences using list of tokens\n",
        "input_sequences = []\n",
        "for line in corpus:\n",
        "\ttoken_list = tokenizer.texts_to_sequences([line])[0]\n",
        "\tfor i in range(1, len(token_list)):\n",
        "\t\tn_gram_sequence = token_list[:i+1]\n",
        "\t\tinput_sequences.append(n_gram_sequence)\n",
        "\n",
        "\n",
        "# pad sequences \n",
        "max_sequence_len = max([len(x) for x in input_sequences])\n",
        "input_sequences = np.array(pad_sequences(input_sequences, maxlen=max_sequence_len, padding='pre'))\n",
        "\n",
        "# create predictors and label\n",
        "predictors, label = input_sequences[:,:-1],input_sequences[:,-1]\n",
        "\n",
        "label = ku.to_categorical(label, num_classes=total_words)"
      ],
      "execution_count": 2,
      "outputs": [
        {
          "output_type": "stream",
          "text": [
            "--2020-09-18 02:52:02--  https://storage.googleapis.com/laurencemoroney-blog.appspot.com/sonnets.txt\n",
            "Resolving storage.googleapis.com (storage.googleapis.com)... 74.125.206.128, 64.233.167.128, 74.125.133.128, ...\n",
            "Connecting to storage.googleapis.com (storage.googleapis.com)|74.125.206.128|:443... connected.\n",
            "HTTP request sent, awaiting response... 200 OK\n",
            "Length: 93578 (91K) [text/plain]\n",
            "Saving to: ‘/tmp/sonnets.txt’\n",
            "\n",
            "/tmp/sonnets.txt    100%[===================>]  91.38K  --.-KB/s    in 0.001s  \n",
            "\n",
            "2020-09-18 02:52:02 (105 MB/s) - ‘/tmp/sonnets.txt’ saved [93578/93578]\n",
            "\n"
          ],
          "name": "stdout"
        }
      ]
    },
    {
      "cell_type": "code",
      "metadata": {
        "colab_type": "code",
        "id": "w9vH8Y59ajYL",
        "colab": {
          "base_uri": "https://localhost:8080/",
          "height": 374
        },
        "outputId": "4e3fceec-ebb1-4aa6-9c36-9289c618db38"
      },
      "source": [
        "model = Sequential()\n",
        "model.add(Embedding(input_dim=total_words, output_dim=100, input_length=max_sequence_len-1))\n",
        "model.add(Bidirectional(LSTM(150, return_sequences=True)))\n",
        "model.add(Dropout(0.2))\n",
        "model.add(LSTM(100))\n",
        "model.add(Dense(units=total_words/2, activation='relu', kernel_regularizer=regularizers.l2(0.01)))\n",
        "model.add(Dense(units=total_words, activation='softmax'))\n",
        "# Pick an optimizer\n",
        "model.compile(loss='categorical_crossentropy', optimizer='adam', metrics=['accuracy'])\n",
        "print(model.summary())\n"
      ],
      "execution_count": 3,
      "outputs": [
        {
          "output_type": "stream",
          "text": [
            "Model: \"sequential\"\n",
            "_________________________________________________________________\n",
            "Layer (type)                 Output Shape              Param #   \n",
            "=================================================================\n",
            "embedding (Embedding)        (None, 10, 100)           321100    \n",
            "_________________________________________________________________\n",
            "bidirectional (Bidirectional (None, 10, 300)           301200    \n",
            "_________________________________________________________________\n",
            "dropout (Dropout)            (None, 10, 300)           0         \n",
            "_________________________________________________________________\n",
            "lstm_1 (LSTM)                (None, 100)               160400    \n",
            "_________________________________________________________________\n",
            "dense (Dense)                (None, 1605)              162105    \n",
            "_________________________________________________________________\n",
            "dense_1 (Dense)              (None, 3211)              5156866   \n",
            "=================================================================\n",
            "Total params: 6,101,671\n",
            "Trainable params: 6,101,671\n",
            "Non-trainable params: 0\n",
            "_________________________________________________________________\n",
            "None\n"
          ],
          "name": "stdout"
        }
      ]
    },
    {
      "cell_type": "code",
      "metadata": {
        "colab_type": "code",
        "id": "AIg2f1HBxqof",
        "colab": {
          "base_uri": "https://localhost:8080/",
          "height": 1000
        },
        "outputId": "c34129b5-d715-4bfd-dcee-aaa3d38f8ad5"
      },
      "source": [
        " history = model.fit(predictors, label, epochs=100, verbose=1)"
      ],
      "execution_count": 4,
      "outputs": [
        {
          "output_type": "stream",
          "text": [
            "Epoch 1/100\n",
            "484/484 [==============================] - 6s 13ms/step - loss: 6.9004 - accuracy: 0.0202\n",
            "Epoch 2/100\n",
            "484/484 [==============================] - 6s 13ms/step - loss: 6.5063 - accuracy: 0.0217\n",
            "Epoch 3/100\n",
            "484/484 [==============================] - 6s 13ms/step - loss: 6.4072 - accuracy: 0.0249\n",
            "Epoch 4/100\n",
            "484/484 [==============================] - 6s 13ms/step - loss: 6.2858 - accuracy: 0.0275\n",
            "Epoch 5/100\n",
            "484/484 [==============================] - 6s 13ms/step - loss: 6.2067 - accuracy: 0.0316\n",
            "Epoch 6/100\n",
            "484/484 [==============================] - 6s 13ms/step - loss: 6.1420 - accuracy: 0.0383\n",
            "Epoch 7/100\n",
            "484/484 [==============================] - 6s 13ms/step - loss: 6.0721 - accuracy: 0.0414\n",
            "Epoch 8/100\n",
            "484/484 [==============================] - 6s 13ms/step - loss: 6.0012 - accuracy: 0.0468\n",
            "Epoch 9/100\n",
            "484/484 [==============================] - 6s 13ms/step - loss: 5.9209 - accuracy: 0.0493\n",
            "Epoch 10/100\n",
            "484/484 [==============================] - 6s 13ms/step - loss: 5.8291 - accuracy: 0.0538\n",
            "Epoch 11/100\n",
            "484/484 [==============================] - 6s 13ms/step - loss: 5.7263 - accuracy: 0.0582\n",
            "Epoch 12/100\n",
            "484/484 [==============================] - 6s 13ms/step - loss: 5.6274 - accuracy: 0.0643\n",
            "Epoch 13/100\n",
            "484/484 [==============================] - 6s 13ms/step - loss: 5.5277 - accuracy: 0.0682\n",
            "Epoch 14/100\n",
            "484/484 [==============================] - 6s 13ms/step - loss: 5.4457 - accuracy: 0.0725\n",
            "Epoch 15/100\n",
            "484/484 [==============================] - 6s 13ms/step - loss: 5.3505 - accuracy: 0.0762\n",
            "Epoch 16/100\n",
            "484/484 [==============================] - 6s 13ms/step - loss: 5.2577 - accuracy: 0.0820\n",
            "Epoch 17/100\n",
            "484/484 [==============================] - 6s 13ms/step - loss: 5.1678 - accuracy: 0.0875\n",
            "Epoch 18/100\n",
            "484/484 [==============================] - 6s 13ms/step - loss: 5.0771 - accuracy: 0.0916\n",
            "Epoch 19/100\n",
            "484/484 [==============================] - 6s 13ms/step - loss: 4.9870 - accuracy: 0.0973\n",
            "Epoch 20/100\n",
            "484/484 [==============================] - 6s 13ms/step - loss: 4.8890 - accuracy: 0.1040\n",
            "Epoch 21/100\n",
            "484/484 [==============================] - 6s 13ms/step - loss: 4.7979 - accuracy: 0.1118\n",
            "Epoch 22/100\n",
            "484/484 [==============================] - 6s 13ms/step - loss: 4.7067 - accuracy: 0.1190\n",
            "Epoch 23/100\n",
            "484/484 [==============================] - 6s 13ms/step - loss: 4.6143 - accuracy: 0.1248\n",
            "Epoch 24/100\n",
            "484/484 [==============================] - 6s 13ms/step - loss: 4.5217 - accuracy: 0.1336\n",
            "Epoch 25/100\n",
            "484/484 [==============================] - 6s 13ms/step - loss: 4.4357 - accuracy: 0.1425\n",
            "Epoch 26/100\n",
            "484/484 [==============================] - 6s 13ms/step - loss: 4.3514 - accuracy: 0.1517\n",
            "Epoch 27/100\n",
            "484/484 [==============================] - 7s 14ms/step - loss: 4.2599 - accuracy: 0.1592\n",
            "Epoch 28/100\n",
            "484/484 [==============================] - 7s 15ms/step - loss: 4.1678 - accuracy: 0.1762\n",
            "Epoch 29/100\n",
            "484/484 [==============================] - 6s 13ms/step - loss: 4.0766 - accuracy: 0.1865\n",
            "Epoch 30/100\n",
            "484/484 [==============================] - 6s 13ms/step - loss: 3.9918 - accuracy: 0.2001\n",
            "Epoch 31/100\n",
            "484/484 [==============================] - 6s 13ms/step - loss: 3.9101 - accuracy: 0.2144\n",
            "Epoch 32/100\n",
            "484/484 [==============================] - 6s 13ms/step - loss: 3.8200 - accuracy: 0.2321\n",
            "Epoch 33/100\n",
            "484/484 [==============================] - 6s 13ms/step - loss: 3.7367 - accuracy: 0.2458\n",
            "Epoch 34/100\n",
            "484/484 [==============================] - 6s 13ms/step - loss: 3.6602 - accuracy: 0.2642\n",
            "Epoch 35/100\n",
            "484/484 [==============================] - 6s 13ms/step - loss: 3.5789 - accuracy: 0.2798\n",
            "Epoch 36/100\n",
            "484/484 [==============================] - 6s 13ms/step - loss: 3.4977 - accuracy: 0.2939\n",
            "Epoch 37/100\n",
            "484/484 [==============================] - 6s 13ms/step - loss: 3.4391 - accuracy: 0.3123\n",
            "Epoch 38/100\n",
            "484/484 [==============================] - 6s 13ms/step - loss: 3.3514 - accuracy: 0.3297\n",
            "Epoch 39/100\n",
            "484/484 [==============================] - 6s 13ms/step - loss: 3.2808 - accuracy: 0.3474\n",
            "Epoch 40/100\n",
            "484/484 [==============================] - 6s 13ms/step - loss: 3.2150 - accuracy: 0.3577\n",
            "Epoch 41/100\n",
            "484/484 [==============================] - 6s 13ms/step - loss: 3.1472 - accuracy: 0.3771\n",
            "Epoch 42/100\n",
            "484/484 [==============================] - 6s 13ms/step - loss: 3.0873 - accuracy: 0.3888\n",
            "Epoch 43/100\n",
            "484/484 [==============================] - 6s 13ms/step - loss: 3.0207 - accuracy: 0.4023\n",
            "Epoch 44/100\n",
            "484/484 [==============================] - 6s 13ms/step - loss: 2.9606 - accuracy: 0.4160\n",
            "Epoch 45/100\n",
            "484/484 [==============================] - 6s 13ms/step - loss: 2.8964 - accuracy: 0.4296\n",
            "Epoch 46/100\n",
            "484/484 [==============================] - 6s 13ms/step - loss: 2.8377 - accuracy: 0.4431\n",
            "Epoch 47/100\n",
            "484/484 [==============================] - 6s 13ms/step - loss: 2.7783 - accuracy: 0.4631\n",
            "Epoch 48/100\n",
            "484/484 [==============================] - 6s 13ms/step - loss: 2.7412 - accuracy: 0.4667\n",
            "Epoch 49/100\n",
            "484/484 [==============================] - 6s 13ms/step - loss: 2.6635 - accuracy: 0.4870\n",
            "Epoch 50/100\n",
            "484/484 [==============================] - 6s 13ms/step - loss: 2.6298 - accuracy: 0.4926\n",
            "Epoch 51/100\n",
            "484/484 [==============================] - 6s 13ms/step - loss: 2.5686 - accuracy: 0.5047\n",
            "Epoch 52/100\n",
            "484/484 [==============================] - 6s 13ms/step - loss: 2.5291 - accuracy: 0.5155\n",
            "Epoch 53/100\n",
            "484/484 [==============================] - 6s 13ms/step - loss: 2.4901 - accuracy: 0.5287\n",
            "Epoch 54/100\n",
            "484/484 [==============================] - 6s 13ms/step - loss: 2.4326 - accuracy: 0.5332\n",
            "Epoch 55/100\n",
            "484/484 [==============================] - 6s 13ms/step - loss: 2.3846 - accuracy: 0.5457\n",
            "Epoch 56/100\n",
            "484/484 [==============================] - 6s 13ms/step - loss: 2.3526 - accuracy: 0.5514\n",
            "Epoch 57/100\n",
            "484/484 [==============================] - 6s 13ms/step - loss: 2.3020 - accuracy: 0.5634\n",
            "Epoch 58/100\n",
            "484/484 [==============================] - 6s 13ms/step - loss: 2.2526 - accuracy: 0.5770\n",
            "Epoch 59/100\n",
            "484/484 [==============================] - 6s 13ms/step - loss: 2.2289 - accuracy: 0.5819\n",
            "Epoch 60/100\n",
            "484/484 [==============================] - 6s 13ms/step - loss: 2.1844 - accuracy: 0.5899\n",
            "Epoch 61/100\n",
            "484/484 [==============================] - 6s 13ms/step - loss: 2.1617 - accuracy: 0.5999\n",
            "Epoch 62/100\n",
            "484/484 [==============================] - 6s 13ms/step - loss: 2.1204 - accuracy: 0.6064\n",
            "Epoch 63/100\n",
            "484/484 [==============================] - 6s 13ms/step - loss: 2.0784 - accuracy: 0.6165\n",
            "Epoch 64/100\n",
            "484/484 [==============================] - 6s 13ms/step - loss: 2.0335 - accuracy: 0.6237\n",
            "Epoch 65/100\n",
            "484/484 [==============================] - 6s 13ms/step - loss: 2.0084 - accuracy: 0.6266\n",
            "Epoch 66/100\n",
            "484/484 [==============================] - 6s 13ms/step - loss: 1.9826 - accuracy: 0.6351\n",
            "Epoch 67/100\n",
            "484/484 [==============================] - 6s 13ms/step - loss: 1.9363 - accuracy: 0.6443\n",
            "Epoch 68/100\n",
            "484/484 [==============================] - 6s 13ms/step - loss: 1.9031 - accuracy: 0.6559\n",
            "Epoch 69/100\n",
            "484/484 [==============================] - 6s 13ms/step - loss: 1.8953 - accuracy: 0.6572\n",
            "Epoch 70/100\n",
            "484/484 [==============================] - 6s 13ms/step - loss: 1.8627 - accuracy: 0.6596\n",
            "Epoch 71/100\n",
            "484/484 [==============================] - 6s 13ms/step - loss: 1.8317 - accuracy: 0.6685\n",
            "Epoch 72/100\n",
            "484/484 [==============================] - 6s 13ms/step - loss: 1.8008 - accuracy: 0.6759\n",
            "Epoch 73/100\n",
            "484/484 [==============================] - 6s 13ms/step - loss: 1.7748 - accuracy: 0.6804\n",
            "Epoch 74/100\n",
            "484/484 [==============================] - 6s 13ms/step - loss: 1.7489 - accuracy: 0.6887\n",
            "Epoch 75/100\n",
            "484/484 [==============================] - 6s 13ms/step - loss: 1.7219 - accuracy: 0.6975\n",
            "Epoch 76/100\n",
            "484/484 [==============================] - 7s 15ms/step - loss: 1.6976 - accuracy: 0.6968\n",
            "Epoch 77/100\n",
            "484/484 [==============================] - 6s 13ms/step - loss: 1.6778 - accuracy: 0.6984\n",
            "Epoch 78/100\n",
            "484/484 [==============================] - 6s 13ms/step - loss: 1.6612 - accuracy: 0.7032\n",
            "Epoch 79/100\n",
            "484/484 [==============================] - 6s 13ms/step - loss: 1.6249 - accuracy: 0.7137\n",
            "Epoch 80/100\n",
            "484/484 [==============================] - 6s 13ms/step - loss: 1.6013 - accuracy: 0.7172\n",
            "Epoch 81/100\n",
            "484/484 [==============================] - 6s 13ms/step - loss: 1.5959 - accuracy: 0.7179\n",
            "Epoch 82/100\n",
            "484/484 [==============================] - 6s 13ms/step - loss: 1.5699 - accuracy: 0.7218\n",
            "Epoch 83/100\n",
            "484/484 [==============================] - 6s 13ms/step - loss: 1.5454 - accuracy: 0.7291\n",
            "Epoch 84/100\n",
            "484/484 [==============================] - 6s 13ms/step - loss: 1.5287 - accuracy: 0.7327\n",
            "Epoch 85/100\n",
            "484/484 [==============================] - 6s 13ms/step - loss: 1.5164 - accuracy: 0.7328\n",
            "Epoch 86/100\n",
            "484/484 [==============================] - 6s 13ms/step - loss: 1.4944 - accuracy: 0.7393\n",
            "Epoch 87/100\n",
            "484/484 [==============================] - 6s 13ms/step - loss: 1.4710 - accuracy: 0.7440\n",
            "Epoch 88/100\n",
            "484/484 [==============================] - 6s 13ms/step - loss: 1.4552 - accuracy: 0.7456\n",
            "Epoch 89/100\n",
            "484/484 [==============================] - 6s 13ms/step - loss: 1.4454 - accuracy: 0.7463\n",
            "Epoch 90/100\n",
            "484/484 [==============================] - 6s 13ms/step - loss: 1.4315 - accuracy: 0.7521\n",
            "Epoch 91/100\n",
            "484/484 [==============================] - 6s 13ms/step - loss: 1.4216 - accuracy: 0.7522\n",
            "Epoch 92/100\n",
            "484/484 [==============================] - 6s 13ms/step - loss: 1.3909 - accuracy: 0.7590\n",
            "Epoch 93/100\n",
            "484/484 [==============================] - 6s 13ms/step - loss: 1.3776 - accuracy: 0.7614\n",
            "Epoch 94/100\n",
            "484/484 [==============================] - 6s 13ms/step - loss: 1.3762 - accuracy: 0.7601\n",
            "Epoch 95/100\n",
            "484/484 [==============================] - 6s 13ms/step - loss: 1.3518 - accuracy: 0.7662\n",
            "Epoch 96/100\n",
            "484/484 [==============================] - 6s 13ms/step - loss: 1.3457 - accuracy: 0.7649\n",
            "Epoch 97/100\n",
            "484/484 [==============================] - 6s 13ms/step - loss: 1.3417 - accuracy: 0.7660\n",
            "Epoch 98/100\n",
            "484/484 [==============================] - 6s 13ms/step - loss: 1.3231 - accuracy: 0.7709\n",
            "Epoch 99/100\n",
            "484/484 [==============================] - 6s 13ms/step - loss: 1.3021 - accuracy: 0.7748\n",
            "Epoch 100/100\n",
            "484/484 [==============================] - 6s 13ms/step - loss: 1.2936 - accuracy: 0.7747\n"
          ],
          "name": "stdout"
        }
      ]
    },
    {
      "cell_type": "code",
      "metadata": {
        "colab_type": "code",
        "id": "1fXTEO3GJ282",
        "colab": {
          "base_uri": "https://localhost:8080/",
          "height": 545
        },
        "outputId": "741132c8-5309-47c4-ae8d-334002076e88"
      },
      "source": [
        "import matplotlib.pyplot as plt\n",
        "acc = history.history['accuracy']\n",
        "loss = history.history['loss']\n",
        "\n",
        "epochs = range(len(acc))\n",
        "\n",
        "plt.plot(epochs, acc, 'b', label='Training accuracy')\n",
        "plt.title('Training accuracy')\n",
        "\n",
        "plt.figure()\n",
        "\n",
        "plt.plot(epochs, loss, 'b', label='Training Loss')\n",
        "plt.title('Training loss')\n",
        "plt.legend()\n",
        "\n",
        "plt.show()"
      ],
      "execution_count": 5,
      "outputs": [
        {
          "output_type": "display_data",
          "data": {
            "image/png": "[encoded data removed]",
            "text/plain": [
              "<Figure size 432x288 with 1 Axes>"
            ]
          },
          "metadata": {
            "tags": [],
            "needs_background": "light"
          }
        },
        {
          "output_type": "display_data",
          "data": {
            "image/png": "[encoded data removed]",
            "text/plain": [
              "<Figure size 432x288 with 1 Axes>"
            ]
          },
          "metadata": {
            "tags": [],
            "needs_background": "light"
          }
        }
      ]
    },
    {
      "cell_type": "code",
      "metadata": {
        "colab_type": "code",
        "id": "6Vc6PHgxa6Hm",
        "colab": {
          "base_uri": "https://localhost:8080/",
          "height": 105
        },
        "outputId": "7010e868-b75f-49c3-ccff-ae8b16e001b4"
      },
      "source": [
        "seed_text = \"Help me Obi Wan Kenobi, you're my only hope\"\n",
        "next_words = 100\n",
        "  \n",
        "for _ in range(next_words):\n",
        "\ttoken_list = tokenizer.texts_to_sequences([seed_text])[0]\n",
        "\ttoken_list = pad_sequences([token_list], maxlen=max_sequence_len-1, padding='pre')\n",
        "\tpredicted = model.predict_classes(token_list, verbose=0)\n",
        "\toutput_word = \"\"\n",
        "\tfor word, index in tokenizer.word_index.items():\n",
        "\t\tif index == predicted:\n",
        "\t\t\toutput_word = word\n",
        "\t\t\tbreak\n",
        "\tseed_text += \" \" + output_word\n",
        "print(seed_text)"
      ],
      "execution_count": 6,
      "outputs": [
        {
          "output_type": "stream",
          "text": [
            "WARNING:tensorflow:From <ipython-input-6-622d307fa19a>:7: Sequential.predict_classes (from tensorflow.python.keras.engine.sequential) is deprecated and will be removed after 2021-01-01.\n",
            "Instructions for updating:\n",
            "Please use instead:* `np.argmax(model.predict(x), axis=-1)`,   if your model does multi-class classification   (e.g. if it uses a `softmax` last-layer activation).* `(model.predict(x) > 0.5).astype(\"int32\")`,   if your model does binary classification   (e.g. if it uses a `sigmoid` last-layer activation).\n",
            "Help me Obi Wan Kenobi, you're my only hope and weeks out ere me grace that time do rest 'no ' tell to work thy friend behind ' ' are told to cross art now ' live behind a truth ' go ' love now make love more do love thine where thee all a old fair fire do define forgotten erred erred tell a part that due of me due of a part of thee words alone due of a worth alone am thine words me in thee you could live good might ' tell that ' prove thee words or bring i bring well bring so well\n"
          ],
          "name": "stdout"
        }
      ]
    },
    {
      "cell_type": "code",
      "metadata": {
        "id": "9ezCKhvKNDsP",
        "colab_type": "code",
        "colab": {}
      },
      "source": [
        ""
      ],
      "execution_count": null,
      "outputs": []
    }
  ]
}