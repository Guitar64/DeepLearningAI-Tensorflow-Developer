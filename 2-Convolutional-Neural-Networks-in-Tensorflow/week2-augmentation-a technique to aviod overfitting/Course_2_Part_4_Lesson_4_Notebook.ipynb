{
  "nbformat": 4,
  "nbformat_minor": 0,
  "metadata": {
    "accelerator": "GPU",
    "colab": {
      "name": "Course 2 - Part 4 - Lesson 4 - Notebook.ipynb",
      "provenance": [],
      "collapsed_sections": [],
      "toc_visible": true
    },
    "kernelspec": {
      "display_name": "Python 3",
      "name": "python3"
    }
  },
  "cells": [
    {
      "cell_type": "markdown",
      "metadata": {
        "colab_type": "text",
        "id": "rX8mhOLljYeM"
      },
      "source": [
        "##### Copyright 2019 The TensorFlow Authors."
      ]
    },
    {
      "cell_type": "code",
      "metadata": {
        "cellView": "form",
        "colab_type": "code",
        "id": "BZSlp3DAjdYf",
        "colab": {}
      },
      "source": [
        "#@title Licensed under the Apache License, Version 2.0 (the \"License\");\n",
        "# you may not use this file except in compliance with the License.\n",
        "# You may obtain a copy of the License at\n",
        "#\n",
        "# https://www.apache.org/licenses/LICENSE-2.0\n",
        "#\n",
        "# Unless required by applicable law or agreed to in writing, software\n",
        "# distributed under the License is distributed on an \"AS IS\" BASIS,\n",
        "# WITHOUT WARRANTIES OR CONDITIONS OF ANY KIND, either express or implied.\n",
        "# See the License for the specific language governing permissions and\n",
        "# limitations under the License."
      ],
      "execution_count": null,
      "outputs": []
    },
    {
      "cell_type": "code",
      "metadata": {
        "colab_type": "code",
        "id": "RXZT2UsyIVe_",
        "colab": {
          "base_uri": "https://localhost:8080/",
          "height": 391
        },
        "outputId": "0f614972-d951-4990-99a9-64204249d3d0"
      },
      "source": [
        "!wget --no-check-certificate \\\n",
        "    https://storage.googleapis.com/laurencemoroney-blog.appspot.com/horse-or-human.zip \\\n",
        "    -O /tmp/horse-or-human.zip\n",
        "\n",
        "!wget --no-check-certificate \\\n",
        "    https://storage.googleapis.com/laurencemoroney-blog.appspot.com/validation-horse-or-human.zip \\\n",
        "    -O /tmp/validation-horse-or-human.zip\n",
        "  \n",
        "import os\n",
        "import zipfile\n",
        "\n",
        "local_zip = '/tmp/horse-or-human.zip'\n",
        "zip_ref = zipfile.ZipFile(local_zip, 'r')\n",
        "zip_ref.extractall('/tmp/horse-or-human')\n",
        "local_zip = '/tmp/validation-horse-or-human.zip'\n",
        "zip_ref = zipfile.ZipFile(local_zip, 'r')\n",
        "zip_ref.extractall('/tmp/validation-horse-or-human')\n",
        "zip_ref.close()\n",
        "# Directory with our training horse pictures\n",
        "train_horse_dir = os.path.join('/tmp/horse-or-human/horses')\n",
        "\n",
        "# Directory with our training human pictures\n",
        "train_human_dir = os.path.join('/tmp/horse-or-human/humans')\n",
        "\n",
        "# Directory with our training horse pictures\n",
        "validation_horse_dir = os.path.join('/tmp/validation-horse-or-human/horses')\n",
        "\n",
        "# Directory with our training human pictures\n",
        "validation_human_dir = os.path.join('/tmp/validation-horse-or-human/humans')"
      ],
      "execution_count": 1,
      "outputs": [
        {
          "output_type": "stream",
          "text": [
            "--2020-09-10 03:26:43--  https://storage.googleapis.com/laurencemoroney-blog.appspot.com/horse-or-human.zip\n",
            "Resolving storage.googleapis.com (storage.googleapis.com)... 74.125.142.128, 74.125.195.128, 2607:f8b0:400e:c08::80, ...\n",
            "Connecting to storage.googleapis.com (storage.googleapis.com)|74.125.142.128|:443... connected.\n",
            "HTTP request sent, awaiting response... 200 OK\n",
            "Length: 149574867 (143M) [application/zip]\n",
            "Saving to: ‘/tmp/horse-or-human.zip’\n",
            "\n",
            "/tmp/horse-or-human 100%[===================>] 142.65M   173MB/s    in 0.8s    \n",
            "\n",
            "2020-09-10 03:26:44 (173 MB/s) - ‘/tmp/horse-or-human.zip’ saved [149574867/149574867]\n",
            "\n",
            "--2020-09-10 03:26:44--  https://storage.googleapis.com/laurencemoroney-blog.appspot.com/validation-horse-or-human.zip\n",
            "Resolving storage.googleapis.com (storage.googleapis.com)... 74.125.142.128, 74.125.195.128, 2607:f8b0:400e:c07::80, ...\n",
            "Connecting to storage.googleapis.com (storage.googleapis.com)|74.125.142.128|:443... connected.\n",
            "HTTP request sent, awaiting response... 200 OK\n",
            "Length: 11480187 (11M) [application/zip]\n",
            "Saving to: ‘/tmp/validation-horse-or-human.zip’\n",
            "\n",
            "/tmp/validation-hor 100%[===================>]  10.95M  --.-KB/s    in 0.1s    \n",
            "\n",
            "2020-09-10 03:26:44 (89.7 MB/s) - ‘/tmp/validation-horse-or-human.zip’ saved [11480187/11480187]\n",
            "\n"
          ],
          "name": "stdout"
        }
      ]
    },
    {
      "cell_type": "markdown",
      "metadata": {
        "colab_type": "text",
        "id": "5oqBkNBJmtUv"
      },
      "source": [
        "## Building a Small Model from Scratch\n",
        "\n",
        "But before we continue, let's start defining the model:\n",
        "\n",
        "Step 1 will be to import tensorflow."
      ]
    },
    {
      "cell_type": "code",
      "metadata": {
        "colab_type": "code",
        "id": "qvfZg3LQbD-5",
        "colab": {}
      },
      "source": [
        "import tensorflow as tf"
      ],
      "execution_count": 2,
      "outputs": []
    },
    {
      "cell_type": "markdown",
      "metadata": {
        "colab_type": "text",
        "id": "BnhYCP4tdqjC"
      },
      "source": [
        "We then add convolutional layers as in the previous example, and flatten the final result to feed into the densely connected layers."
      ]
    },
    {
      "cell_type": "markdown",
      "metadata": {
        "colab_type": "text",
        "id": "gokG5HKpdtzm"
      },
      "source": [
        "Finally we add the densely connected layers. \n",
        "\n",
        "Note that because we are facing a two-class classification problem, i.e. a *binary classification problem*, we will end our network with a [*sigmoid* activation](https://wikipedia.org/wiki/Sigmoid_function), so that the output of our network will be a single scalar between 0 and 1, encoding the probability that the current image is class 1 (as opposed to class 0)."
      ]
    },
    {
      "cell_type": "code",
      "metadata": {
        "colab_type": "code",
        "id": "PixZ2s5QbYQ3",
        "colab": {}
      },
      "source": [
        "model = tf.keras.models.Sequential([\n",
        "    # Note the input shape is the desired size of the image 300x300 with 3 bytes color\n",
        "    # This is the first convolution\n",
        "    tf.keras.layers.Conv2D(16, (3,3), activation='relu', input_shape=(300, 300, 3)),\n",
        "    tf.keras.layers.MaxPooling2D(2, 2),\n",
        "    # The second convolution\n",
        "    tf.keras.layers.Conv2D(32, (3,3), activation='relu'),\n",
        "    tf.keras.layers.MaxPooling2D(2,2),\n",
        "    # The third convolution\n",
        "    tf.keras.layers.Conv2D(64, (3,3), activation='relu'),\n",
        "    tf.keras.layers.MaxPooling2D(2,2),\n",
        "    # The fourth convolution\n",
        "    tf.keras.layers.Conv2D(64, (3,3), activation='relu'),\n",
        "    tf.keras.layers.MaxPooling2D(2,2),\n",
        "    # The fifth convolution\n",
        "    tf.keras.layers.Conv2D(64, (3,3), activation='relu'),\n",
        "    tf.keras.layers.MaxPooling2D(2,2),\n",
        "    # Flatten the results to feed into a DNN\n",
        "    tf.keras.layers.Flatten(),\n",
        "    # 512 neuron hidden layer\n",
        "    tf.keras.layers.Dense(512, activation='relu'),\n",
        "    # Only 1 output neuron. It will contain a value from 0-1 where 0 for 1 class ('horses') and 1 for the other ('humans')\n",
        "    tf.keras.layers.Dense(1, activation='sigmoid')\n",
        "])"
      ],
      "execution_count": 3,
      "outputs": []
    },
    {
      "cell_type": "code",
      "metadata": {
        "colab_type": "code",
        "id": "8DHWhFP_uhq3",
        "colab": {}
      },
      "source": [
        "from tensorflow.keras.optimizers import RMSprop\n",
        "\n",
        "model.compile(loss='binary_crossentropy',\n",
        "              optimizer=RMSprop(lr=1e-4),\n",
        "              metrics=['accuracy'])"
      ],
      "execution_count": 4,
      "outputs": []
    },
    {
      "cell_type": "code",
      "metadata": {
        "colab_type": "code",
        "id": "ClebU9NJg99G",
        "colab": {
          "base_uri": "https://localhost:8080/",
          "height": 51
        },
        "outputId": "7c40b91c-a5a5-464a-f6de-589315603ecd"
      },
      "source": [
        "from tensorflow.keras.preprocessing.image import ImageDataGenerator\n",
        "\n",
        "# All images will be rescaled by 1./255\n",
        "train_datagen = ImageDataGenerator(\n",
        "      rescale=1./255,\n",
        "      rotation_range=40,\n",
        "      width_shift_range=0.2,\n",
        "      height_shift_range=0.2,\n",
        "      shear_range=0.2,\n",
        "      zoom_range=0.2,\n",
        "      horizontal_flip=True,\n",
        "      fill_mode='nearest')\n",
        "\n",
        "validation_datagen = ImageDataGenerator(rescale=1/255)\n",
        "\n",
        "# Flow training images in batches of 128 using train_datagen generator\n",
        "train_generator = train_datagen.flow_from_directory(\n",
        "        '/tmp/horse-or-human/',  # This is the source directory for training images\n",
        "        target_size=(300, 300),  # All images will be resized to 150x150\n",
        "        batch_size=128,\n",
        "        # Since we use binary_crossentropy loss, we need binary labels\n",
        "        class_mode='binary')\n",
        "\n",
        "# Flow training images in batches of 128 using train_datagen generator\n",
        "validation_generator = validation_datagen.flow_from_directory(\n",
        "        '/tmp/validation-horse-or-human/',  # This is the source directory for training images\n",
        "        target_size=(300, 300),  # All images will be resized to 150x150\n",
        "        batch_size=32,\n",
        "        # Since we use binary_crossentropy loss, we need binary labels\n",
        "        class_mode='binary')"
      ],
      "execution_count": 5,
      "outputs": [
        {
          "output_type": "stream",
          "text": [
            "Found 1027 images belonging to 2 classes.\n",
            "Found 256 images belonging to 2 classes.\n"
          ],
          "name": "stdout"
        }
      ]
    },
    {
      "cell_type": "code",
      "metadata": {
        "colab_type": "code",
        "id": "Fb1_lgobv81m",
        "colab": {
          "base_uri": "https://localhost:8080/",
          "height": 1000
        },
        "outputId": "c23ec339-d315-4ec2-c16f-624fd88a0e15"
      },
      "source": [
        "history = model.fit(\n",
        "      train_generator,\n",
        "      steps_per_epoch=8,  \n",
        "      epochs=100,\n",
        "      verbose=1,\n",
        "      validation_data = validation_generator,\n",
        "      validation_steps=8)"
      ],
      "execution_count": 6,
      "outputs": [
        {
          "output_type": "stream",
          "text": [
            "Epoch 1/100\n",
            "2/8 [======>.......................] - ETA: 0s - loss: 0.6980 - accuracy: 0.5078WARNING:tensorflow:Callbacks method `on_train_batch_end` is slow compared to the batch time (batch time: 0.0740s vs `on_train_batch_end` time: 0.1192s). Check your callbacks.\n",
            "8/8 [==============================] - 16s 2s/step - loss: 0.7007 - accuracy: 0.5050 - val_loss: 0.6925 - val_accuracy: 0.5000\n",
            "Epoch 2/100\n",
            "8/8 [==============================] - 19s 2s/step - loss: 0.6838 - accuracy: 0.5907 - val_loss: 0.6703 - val_accuracy: 0.6094\n",
            "Epoch 3/100\n",
            "8/8 [==============================] - 21s 3s/step - loss: 0.6769 - accuracy: 0.5818 - val_loss: 0.6800 - val_accuracy: 0.5039\n",
            "Epoch 4/100\n",
            "8/8 [==============================] - 18s 2s/step - loss: 0.6778 - accuracy: 0.5706 - val_loss: 0.7157 - val_accuracy: 0.5000\n",
            "Epoch 5/100\n",
            "8/8 [==============================] - 18s 2s/step - loss: 0.6632 - accuracy: 0.6040 - val_loss: 0.6232 - val_accuracy: 0.8359\n",
            "Epoch 6/100\n",
            "8/8 [==============================] - 18s 2s/step - loss: 0.6531 - accuracy: 0.6496 - val_loss: 0.6284 - val_accuracy: 0.5977\n",
            "Epoch 7/100\n",
            "8/8 [==============================] - 18s 2s/step - loss: 0.6304 - accuracy: 0.6641 - val_loss: 0.5605 - val_accuracy: 0.8125\n",
            "Epoch 8/100\n",
            "8/8 [==============================] - 18s 2s/step - loss: 0.6306 - accuracy: 0.6507 - val_loss: 0.5766 - val_accuracy: 0.6484\n",
            "Epoch 9/100\n",
            "8/8 [==============================] - 18s 2s/step - loss: 0.5817 - accuracy: 0.7286 - val_loss: 0.4651 - val_accuracy: 0.8359\n",
            "Epoch 10/100\n",
            "8/8 [==============================] - 18s 2s/step - loss: 0.6101 - accuracy: 0.6852 - val_loss: 0.5752 - val_accuracy: 0.6484\n",
            "Epoch 11/100\n",
            "8/8 [==============================] - 18s 2s/step - loss: 0.5432 - accuracy: 0.7653 - val_loss: 0.4610 - val_accuracy: 0.7852\n",
            "Epoch 12/100\n",
            "8/8 [==============================] - 18s 2s/step - loss: 0.5898 - accuracy: 0.7386 - val_loss: 0.4205 - val_accuracy: 0.8242\n",
            "Epoch 13/100\n",
            "8/8 [==============================] - 18s 2s/step - loss: 0.5456 - accuracy: 0.7453 - val_loss: 0.4905 - val_accuracy: 0.7383\n",
            "Epoch 14/100\n",
            "8/8 [==============================] - 18s 2s/step - loss: 0.5108 - accuracy: 0.7586 - val_loss: 1.2169 - val_accuracy: 0.5312\n",
            "Epoch 15/100\n",
            "8/8 [==============================] - 18s 2s/step - loss: 0.5238 - accuracy: 0.7575 - val_loss: 0.5331 - val_accuracy: 0.7305\n",
            "Epoch 16/100\n",
            "8/8 [==============================] - 21s 3s/step - loss: 0.4898 - accuracy: 0.7853 - val_loss: 0.8922 - val_accuracy: 0.6016\n",
            "Epoch 17/100\n",
            "8/8 [==============================] - 18s 2s/step - loss: 0.5084 - accuracy: 0.7453 - val_loss: 0.8167 - val_accuracy: 0.6289\n",
            "Epoch 18/100\n",
            "8/8 [==============================] - 18s 2s/step - loss: 0.5467 - accuracy: 0.7386 - val_loss: 0.9014 - val_accuracy: 0.6055\n",
            "Epoch 19/100\n",
            "8/8 [==============================] - 18s 2s/step - loss: 0.4499 - accuracy: 0.8020 - val_loss: 0.8824 - val_accuracy: 0.6289\n",
            "Epoch 20/100\n",
            "8/8 [==============================] - 18s 2s/step - loss: 0.4229 - accuracy: 0.8120 - val_loss: 0.7035 - val_accuracy: 0.7070\n",
            "Epoch 21/100\n",
            "8/8 [==============================] - 18s 2s/step - loss: 0.4799 - accuracy: 0.7597 - val_loss: 1.0861 - val_accuracy: 0.6211\n",
            "Epoch 22/100\n",
            "8/8 [==============================] - 18s 2s/step - loss: 0.4323 - accuracy: 0.8154 - val_loss: 0.6397 - val_accuracy: 0.7383\n",
            "Epoch 23/100\n",
            "8/8 [==============================] - 18s 2s/step - loss: 0.4586 - accuracy: 0.7709 - val_loss: 0.8019 - val_accuracy: 0.6836\n",
            "Epoch 24/100\n",
            "8/8 [==============================] - 18s 2s/step - loss: 0.5134 - accuracy: 0.7697 - val_loss: 0.8396 - val_accuracy: 0.6836\n",
            "Epoch 25/100\n",
            "8/8 [==============================] - 18s 2s/step - loss: 0.4064 - accuracy: 0.8209 - val_loss: 1.0735 - val_accuracy: 0.6250\n",
            "Epoch 26/100\n",
            "8/8 [==============================] - 21s 3s/step - loss: 0.4143 - accuracy: 0.8096 - val_loss: 0.9261 - val_accuracy: 0.6602\n",
            "Epoch 27/100\n",
            "8/8 [==============================] - 18s 2s/step - loss: 0.4504 - accuracy: 0.8065 - val_loss: 0.8556 - val_accuracy: 0.6797\n",
            "Epoch 28/100\n",
            "8/8 [==============================] - 18s 2s/step - loss: 0.4257 - accuracy: 0.8176 - val_loss: 0.8058 - val_accuracy: 0.6914\n",
            "Epoch 29/100\n",
            "8/8 [==============================] - 21s 3s/step - loss: 0.3760 - accuracy: 0.8320 - val_loss: 1.0760 - val_accuracy: 0.6562\n",
            "Epoch 30/100\n",
            "8/8 [==============================] - 18s 2s/step - loss: 0.3822 - accuracy: 0.8220 - val_loss: 0.5469 - val_accuracy: 0.7930\n",
            "Epoch 31/100\n",
            "8/8 [==============================] - 19s 2s/step - loss: 0.3838 - accuracy: 0.8298 - val_loss: 0.9560 - val_accuracy: 0.6875\n",
            "Epoch 32/100\n",
            "8/8 [==============================] - 19s 2s/step - loss: 0.3707 - accuracy: 0.8220 - val_loss: 1.5399 - val_accuracy: 0.5859\n",
            "Epoch 33/100\n",
            "8/8 [==============================] - 18s 2s/step - loss: 0.3410 - accuracy: 0.8565 - val_loss: 0.5670 - val_accuracy: 0.7773\n",
            "Epoch 34/100\n",
            "8/8 [==============================] - 18s 2s/step - loss: 0.5066 - accuracy: 0.7887 - val_loss: 0.8807 - val_accuracy: 0.6797\n",
            "Epoch 35/100\n",
            "8/8 [==============================] - 18s 2s/step - loss: 0.3514 - accuracy: 0.8532 - val_loss: 1.2773 - val_accuracy: 0.6367\n",
            "Epoch 36/100\n",
            "8/8 [==============================] - 18s 2s/step - loss: 0.3299 - accuracy: 0.8587 - val_loss: 1.4538 - val_accuracy: 0.6016\n",
            "Epoch 37/100\n",
            "8/8 [==============================] - 20s 3s/step - loss: 0.3157 - accuracy: 0.8691 - val_loss: 1.2313 - val_accuracy: 0.6445\n",
            "Epoch 38/100\n",
            "8/8 [==============================] - 18s 2s/step - loss: 0.3249 - accuracy: 0.8509 - val_loss: 0.7902 - val_accuracy: 0.7188\n",
            "Epoch 39/100\n",
            "8/8 [==============================] - 18s 2s/step - loss: 0.3675 - accuracy: 0.8320 - val_loss: 1.3151 - val_accuracy: 0.6328\n",
            "Epoch 40/100\n",
            "8/8 [==============================] - 20s 3s/step - loss: 0.2775 - accuracy: 0.8896 - val_loss: 1.0285 - val_accuracy: 0.7031\n",
            "Epoch 41/100\n",
            "8/8 [==============================] - 18s 2s/step - loss: 0.4041 - accuracy: 0.8154 - val_loss: 1.4065 - val_accuracy: 0.6289\n",
            "Epoch 42/100\n",
            "8/8 [==============================] - 18s 2s/step - loss: 0.3383 - accuracy: 0.8543 - val_loss: 1.4074 - val_accuracy: 0.6484\n",
            "Epoch 43/100\n",
            "8/8 [==============================] - 18s 2s/step - loss: 0.2630 - accuracy: 0.9032 - val_loss: 1.2464 - val_accuracy: 0.6836\n",
            "Epoch 44/100\n",
            "8/8 [==============================] - 18s 2s/step - loss: 0.3437 - accuracy: 0.8476 - val_loss: 0.7264 - val_accuracy: 0.7461\n",
            "Epoch 45/100\n",
            "8/8 [==============================] - 21s 3s/step - loss: 0.2856 - accuracy: 0.8943 - val_loss: 1.6112 - val_accuracy: 0.6289\n",
            "Epoch 46/100\n",
            "8/8 [==============================] - 21s 3s/step - loss: 0.2814 - accuracy: 0.8754 - val_loss: 1.9085 - val_accuracy: 0.6133\n",
            "Epoch 47/100\n",
            "8/8 [==============================] - 18s 2s/step - loss: 0.2514 - accuracy: 0.8977 - val_loss: 2.5788 - val_accuracy: 0.5547\n",
            "Epoch 48/100\n",
            "8/8 [==============================] - 18s 2s/step - loss: 0.3161 - accuracy: 0.8598 - val_loss: 1.2861 - val_accuracy: 0.6797\n",
            "Epoch 49/100\n",
            "8/8 [==============================] - 21s 3s/step - loss: 0.2693 - accuracy: 0.8789 - val_loss: 2.8301 - val_accuracy: 0.5430\n",
            "Epoch 50/100\n",
            "8/8 [==============================] - 18s 2s/step - loss: 0.3213 - accuracy: 0.8554 - val_loss: 1.5421 - val_accuracy: 0.6328\n",
            "Epoch 51/100\n",
            "8/8 [==============================] - 18s 2s/step - loss: 0.3462 - accuracy: 0.8465 - val_loss: 1.4900 - val_accuracy: 0.6055\n",
            "Epoch 52/100\n",
            "8/8 [==============================] - 21s 3s/step - loss: 0.2594 - accuracy: 0.8994 - val_loss: 1.2954 - val_accuracy: 0.6758\n",
            "Epoch 53/100\n",
            "8/8 [==============================] - 18s 2s/step - loss: 0.3443 - accuracy: 0.8743 - val_loss: 1.1833 - val_accuracy: 0.6602\n",
            "Epoch 54/100\n",
            "8/8 [==============================] - 18s 2s/step - loss: 0.2164 - accuracy: 0.9277 - val_loss: 1.5160 - val_accuracy: 0.6484\n",
            "Epoch 55/100\n",
            "8/8 [==============================] - 20s 3s/step - loss: 0.2773 - accuracy: 0.8779 - val_loss: 1.5366 - val_accuracy: 0.6445\n",
            "Epoch 56/100\n",
            "8/8 [==============================] - 18s 2s/step - loss: 0.3367 - accuracy: 0.8532 - val_loss: 1.7219 - val_accuracy: 0.6406\n",
            "Epoch 57/100\n",
            "8/8 [==============================] - 20s 3s/step - loss: 0.2189 - accuracy: 0.9180 - val_loss: 1.7016 - val_accuracy: 0.6523\n",
            "Epoch 58/100\n",
            "8/8 [==============================] - 18s 2s/step - loss: 0.3613 - accuracy: 0.8810 - val_loss: 1.7736 - val_accuracy: 0.6328\n",
            "Epoch 59/100\n",
            "8/8 [==============================] - 21s 3s/step - loss: 0.1920 - accuracy: 0.9277 - val_loss: 1.7693 - val_accuracy: 0.6484\n",
            "Epoch 60/100\n",
            "8/8 [==============================] - 18s 2s/step - loss: 0.2918 - accuracy: 0.8710 - val_loss: 3.5257 - val_accuracy: 0.5273\n",
            "Epoch 61/100\n",
            "8/8 [==============================] - 18s 2s/step - loss: 0.2845 - accuracy: 0.8888 - val_loss: 1.6834 - val_accuracy: 0.6562\n",
            "Epoch 62/100\n",
            "8/8 [==============================] - 18s 2s/step - loss: 0.3054 - accuracy: 0.8721 - val_loss: 1.5071 - val_accuracy: 0.6758\n",
            "Epoch 63/100\n",
            "8/8 [==============================] - 20s 3s/step - loss: 0.2153 - accuracy: 0.9229 - val_loss: 1.6662 - val_accuracy: 0.6602\n",
            "Epoch 64/100\n",
            "8/8 [==============================] - 20s 3s/step - loss: 0.2031 - accuracy: 0.9229 - val_loss: 2.2739 - val_accuracy: 0.6172\n",
            "Epoch 65/100\n",
            "8/8 [==============================] - 18s 2s/step - loss: 0.2131 - accuracy: 0.9166 - val_loss: 3.6075 - val_accuracy: 0.5273\n",
            "Epoch 66/100\n",
            "8/8 [==============================] - 21s 3s/step - loss: 0.2470 - accuracy: 0.9021 - val_loss: 2.0021 - val_accuracy: 0.6250\n",
            "Epoch 67/100\n",
            "8/8 [==============================] - 20s 3s/step - loss: 0.1955 - accuracy: 0.9238 - val_loss: 1.6406 - val_accuracy: 0.6602\n",
            "Epoch 68/100\n",
            "8/8 [==============================] - 18s 2s/step - loss: 0.2507 - accuracy: 0.8921 - val_loss: 2.0429 - val_accuracy: 0.6133\n",
            "Epoch 69/100\n",
            "8/8 [==============================] - 18s 2s/step - loss: 0.2653 - accuracy: 0.8899 - val_loss: 1.4400 - val_accuracy: 0.6914\n",
            "Epoch 70/100\n",
            "8/8 [==============================] - 18s 2s/step - loss: 0.2155 - accuracy: 0.9110 - val_loss: 2.0799 - val_accuracy: 0.6289\n",
            "Epoch 71/100\n",
            "8/8 [==============================] - 18s 2s/step - loss: 0.2140 - accuracy: 0.9088 - val_loss: 3.7502 - val_accuracy: 0.5000\n",
            "Epoch 72/100\n",
            "8/8 [==============================] - 18s 2s/step - loss: 0.2763 - accuracy: 0.8776 - val_loss: 1.7956 - val_accuracy: 0.6328\n",
            "Epoch 73/100\n",
            "8/8 [==============================] - 18s 2s/step - loss: 0.2048 - accuracy: 0.9155 - val_loss: 1.3698 - val_accuracy: 0.6914\n",
            "Epoch 74/100\n",
            "8/8 [==============================] - 18s 2s/step - loss: 0.1826 - accuracy: 0.9366 - val_loss: 2.7217 - val_accuracy: 0.5859\n",
            "Epoch 75/100\n",
            "8/8 [==============================] - 18s 2s/step - loss: 0.1852 - accuracy: 0.9199 - val_loss: 4.0721 - val_accuracy: 0.5234\n",
            "Epoch 76/100\n",
            "8/8 [==============================] - 18s 2s/step - loss: 0.2161 - accuracy: 0.9143 - val_loss: 1.7708 - val_accuracy: 0.6641\n",
            "Epoch 77/100\n",
            "8/8 [==============================] - 18s 2s/step - loss: 0.4342 - accuracy: 0.8465 - val_loss: 1.5960 - val_accuracy: 0.6367\n",
            "Epoch 78/100\n",
            "8/8 [==============================] - 18s 2s/step - loss: 0.1902 - accuracy: 0.9321 - val_loss: 1.6718 - val_accuracy: 0.6562\n",
            "Epoch 79/100\n",
            "8/8 [==============================] - 18s 2s/step - loss: 0.2276 - accuracy: 0.9043 - val_loss: 2.0033 - val_accuracy: 0.6406\n",
            "Epoch 80/100\n",
            "8/8 [==============================] - 18s 2s/step - loss: 0.1670 - accuracy: 0.9366 - val_loss: 2.5208 - val_accuracy: 0.6211\n",
            "Epoch 81/100\n",
            "8/8 [==============================] - 18s 2s/step - loss: 0.2022 - accuracy: 0.9232 - val_loss: 1.5399 - val_accuracy: 0.6914\n",
            "Epoch 82/100\n",
            "8/8 [==============================] - 18s 2s/step - loss: 0.1826 - accuracy: 0.9255 - val_loss: 1.9243 - val_accuracy: 0.6914\n",
            "Epoch 83/100\n",
            "8/8 [==============================] - 18s 2s/step - loss: 0.2510 - accuracy: 0.9010 - val_loss: 1.9922 - val_accuracy: 0.6641\n",
            "Epoch 84/100\n",
            "8/8 [==============================] - 18s 2s/step - loss: 0.1627 - accuracy: 0.9355 - val_loss: 3.9902 - val_accuracy: 0.5508\n",
            "Epoch 85/100\n",
            "8/8 [==============================] - 18s 2s/step - loss: 0.2426 - accuracy: 0.8954 - val_loss: 1.8194 - val_accuracy: 0.6641\n",
            "Epoch 86/100\n",
            "8/8 [==============================] - 18s 2s/step - loss: 0.1864 - accuracy: 0.9255 - val_loss: 3.5108 - val_accuracy: 0.5547\n",
            "Epoch 87/100\n",
            "8/8 [==============================] - 18s 2s/step - loss: 0.2238 - accuracy: 0.8988 - val_loss: 3.2973 - val_accuracy: 0.5430\n",
            "Epoch 88/100\n",
            "8/8 [==============================] - 18s 2s/step - loss: 0.1657 - accuracy: 0.9355 - val_loss: 3.0021 - val_accuracy: 0.6016\n",
            "Epoch 89/100\n",
            "8/8 [==============================] - 18s 2s/step - loss: 0.1969 - accuracy: 0.9244 - val_loss: 2.5048 - val_accuracy: 0.6250\n",
            "Epoch 90/100\n",
            "8/8 [==============================] - 20s 3s/step - loss: 0.1990 - accuracy: 0.9180 - val_loss: 2.5939 - val_accuracy: 0.6133\n",
            "Epoch 91/100\n",
            "8/8 [==============================] - 18s 2s/step - loss: 0.1773 - accuracy: 0.9299 - val_loss: 1.7366 - val_accuracy: 0.6914\n",
            "Epoch 92/100\n",
            "8/8 [==============================] - 21s 3s/step - loss: 0.1806 - accuracy: 0.9344 - val_loss: 2.1610 - val_accuracy: 0.6445\n",
            "Epoch 93/100\n",
            "8/8 [==============================] - 18s 2s/step - loss: 0.1635 - accuracy: 0.9321 - val_loss: 2.5552 - val_accuracy: 0.6289\n",
            "Epoch 94/100\n",
            "8/8 [==============================] - 18s 2s/step - loss: 0.2369 - accuracy: 0.8977 - val_loss: 2.7468 - val_accuracy: 0.6172\n",
            "Epoch 95/100\n",
            "8/8 [==============================] - 18s 2s/step - loss: 0.1861 - accuracy: 0.9232 - val_loss: 2.5514 - val_accuracy: 0.6211\n",
            "Epoch 96/100\n",
            "8/8 [==============================] - 18s 2s/step - loss: 0.2430 - accuracy: 0.9110 - val_loss: 1.9673 - val_accuracy: 0.6484\n",
            "Epoch 97/100\n",
            "8/8 [==============================] - 18s 2s/step - loss: 0.1493 - accuracy: 0.9410 - val_loss: 2.3205 - val_accuracy: 0.6406\n",
            "Epoch 98/100\n",
            "8/8 [==============================] - 21s 3s/step - loss: 0.1559 - accuracy: 0.9344 - val_loss: 2.0946 - val_accuracy: 0.6680\n",
            "Epoch 99/100\n",
            "8/8 [==============================] - 18s 2s/step - loss: 0.2149 - accuracy: 0.9055 - val_loss: 2.1197 - val_accuracy: 0.6367\n",
            "Epoch 100/100\n",
            "8/8 [==============================] - 20s 3s/step - loss: 0.1535 - accuracy: 0.9434 - val_loss: 2.5580 - val_accuracy: 0.6133\n"
          ],
          "name": "stdout"
        }
      ]
    },
    {
      "cell_type": "code",
      "metadata": {
        "colab_type": "code",
        "id": "7zNPRWOVJdOH",
        "colab": {
          "base_uri": "https://localhost:8080/",
          "height": 545
        },
        "outputId": "6ed31b6c-1c70-490c-9208-4fedba1cc8f3"
      },
      "source": [
        "import matplotlib.pyplot as plt\n",
        "acc = history.history['accuracy']\n",
        "val_acc = history.history['val_accuracy']\n",
        "loss = history.history['loss']\n",
        "val_loss = history.history['val_loss']\n",
        "\n",
        "epochs = range(len(acc))\n",
        "\n",
        "plt.plot(epochs, acc, 'r', label='Training accuracy')\n",
        "plt.plot(epochs, val_acc, 'b', label='Validation accuracy')\n",
        "plt.title('Training and validation accuracy')\n",
        "\n",
        "plt.figure()\n",
        "\n",
        "plt.plot(epochs, loss, 'r', label='Training Loss')\n",
        "plt.plot(epochs, val_loss, 'b', label='Validation Loss')\n",
        "plt.title('Training and validation loss')\n",
        "plt.legend()\n",
        "\n",
        "plt.show()"
      ],
      "execution_count": 7,
      "outputs": [
        {
          "output_type": "display_data",
          "data": {
            "image/png": "[encoded data removed]",
            "text/plain": [
              "<Figure size 432x288 with 1 Axes>"
            ]
          },
          "metadata": {
            "tags": [],
            "needs_background": "light"
          }
        },
        {
          "output_type": "display_data",
          "data": {
            "image/png": "[encoded data removed]",
            "text/plain": [
              "<Figure size 432x288 with 1 Axes>"
            ]
          },
          "metadata": {
            "tags": [],
            "needs_background": "light"
          }
        }
      ]
    },
    {
      "cell_type": "code",
      "metadata": {
        "id": "uUsnRgjRPqqU",
        "colab_type": "code",
        "colab": {}
      },
      "source": [
        ""
      ],
      "execution_count": null,
      "outputs": []
    }
  ]
}